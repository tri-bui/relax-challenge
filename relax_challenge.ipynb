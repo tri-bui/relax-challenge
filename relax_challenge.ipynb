{
 "cells": [
  {
   "cell_type": "markdown",
   "metadata": {},
   "source": [
    "# Relax Data Challenge"
   ]
  },
  {
   "cell_type": "markdown",
   "metadata": {},
   "source": [
    "### Dependencies & data"
   ]
  },
  {
   "cell_type": "code",
   "execution_count": 1,
   "metadata": {},
   "outputs": [],
   "source": [
    "# Dependencies\n",
    "import numpy as np\n",
    "import pandas as pd\n",
    "import matplotlib.pyplot as plt\n",
    "import seaborn as sns\n",
    "from sklearn.model_selection import train_test_split, GridSearchCV, cross_val_score\n",
    "from sklearn.metrics import roc_auc_score, confusion_matrix\n",
    "from sklearn.linear_model import LogisticRegression\n",
    "from sklearn.tree import DecisionTreeClassifier\n",
    "from sklearn.ensemble import RandomForestClassifier\n",
    "\n",
    "sns.set()\n",
    "%matplotlib inline"
   ]
  },
  {
   "cell_type": "code",
   "execution_count": 2,
   "metadata": {},
   "outputs": [
    {
     "name": "stdout",
     "output_type": "stream",
     "text": [
      "<class 'pandas.core.frame.DataFrame'>\n",
      "RangeIndex: 207917 entries, 0 to 207916\n",
      "Data columns (total 3 columns):\n",
      " #   Column      Non-Null Count   Dtype         \n",
      "---  ------      --------------   -----         \n",
      " 0   time_stamp  207917 non-null  datetime64[ns]\n",
      " 1   user_id     207917 non-null  int64         \n",
      " 2   visited     207917 non-null  int64         \n",
      "dtypes: datetime64[ns](1), int64(2)\n",
      "memory usage: 4.8 MB\n",
      "None\n"
     ]
    },
    {
     "data": {
      "text/html": [
       "<div>\n",
       "<style scoped>\n",
       "    .dataframe tbody tr th:only-of-type {\n",
       "        vertical-align: middle;\n",
       "    }\n",
       "\n",
       "    .dataframe tbody tr th {\n",
       "        vertical-align: top;\n",
       "    }\n",
       "\n",
       "    .dataframe thead th {\n",
       "        text-align: right;\n",
       "    }\n",
       "</style>\n",
       "<table border=\"1\" class=\"dataframe\">\n",
       "  <thead>\n",
       "    <tr style=\"text-align: right;\">\n",
       "      <th></th>\n",
       "      <th>time_stamp</th>\n",
       "      <th>user_id</th>\n",
       "      <th>visited</th>\n",
       "    </tr>\n",
       "  </thead>\n",
       "  <tbody>\n",
       "    <tr>\n",
       "      <th>0</th>\n",
       "      <td>2014-04-22 03:53:30</td>\n",
       "      <td>1</td>\n",
       "      <td>1</td>\n",
       "    </tr>\n",
       "    <tr>\n",
       "      <th>1</th>\n",
       "      <td>2013-11-15 03:45:04</td>\n",
       "      <td>2</td>\n",
       "      <td>1</td>\n",
       "    </tr>\n",
       "  </tbody>\n",
       "</table>\n",
       "</div>"
      ],
      "text/plain": [
       "           time_stamp  user_id  visited\n",
       "0 2014-04-22 03:53:30        1        1\n",
       "1 2013-11-15 03:45:04        2        1"
      ]
     },
     "execution_count": 2,
     "metadata": {},
     "output_type": "execute_result"
    }
   ],
   "source": [
    "# Usage data\n",
    "usage_df = pd.read_csv('takehome_user_engagement.csv', parse_dates=['time_stamp'])\n",
    "print(usage_df.info())\n",
    "usage_df.head(2)"
   ]
  },
  {
   "cell_type": "code",
   "execution_count": 3,
   "metadata": {},
   "outputs": [
    {
     "name": "stdout",
     "output_type": "stream",
     "text": [
      "<class 'pandas.core.frame.DataFrame'>\n",
      "RangeIndex: 12000 entries, 0 to 11999\n",
      "Data columns (total 10 columns):\n",
      " #   Column                      Non-Null Count  Dtype         \n",
      "---  ------                      --------------  -----         \n",
      " 0   object_id                   12000 non-null  int64         \n",
      " 1   creation_time               12000 non-null  datetime64[ns]\n",
      " 2   name                        12000 non-null  object        \n",
      " 3   email                       12000 non-null  object        \n",
      " 4   creation_source             12000 non-null  object        \n",
      " 5   last_session_creation_time  8823 non-null   float64       \n",
      " 6   opted_in_to_mailing_list    12000 non-null  int64         \n",
      " 7   enabled_for_marketing_drip  12000 non-null  int64         \n",
      " 8   org_id                      12000 non-null  int64         \n",
      " 9   invited_by_user_id          6417 non-null   float64       \n",
      "dtypes: datetime64[ns](1), float64(2), int64(4), object(3)\n",
      "memory usage: 937.6+ KB\n",
      "None\n"
     ]
    },
    {
     "data": {
      "text/html": [
       "<div>\n",
       "<style scoped>\n",
       "    .dataframe tbody tr th:only-of-type {\n",
       "        vertical-align: middle;\n",
       "    }\n",
       "\n",
       "    .dataframe tbody tr th {\n",
       "        vertical-align: top;\n",
       "    }\n",
       "\n",
       "    .dataframe thead th {\n",
       "        text-align: right;\n",
       "    }\n",
       "</style>\n",
       "<table border=\"1\" class=\"dataframe\">\n",
       "  <thead>\n",
       "    <tr style=\"text-align: right;\">\n",
       "      <th></th>\n",
       "      <th>object_id</th>\n",
       "      <th>creation_time</th>\n",
       "      <th>name</th>\n",
       "      <th>email</th>\n",
       "      <th>creation_source</th>\n",
       "      <th>last_session_creation_time</th>\n",
       "      <th>opted_in_to_mailing_list</th>\n",
       "      <th>enabled_for_marketing_drip</th>\n",
       "      <th>org_id</th>\n",
       "      <th>invited_by_user_id</th>\n",
       "    </tr>\n",
       "  </thead>\n",
       "  <tbody>\n",
       "    <tr>\n",
       "      <th>0</th>\n",
       "      <td>1</td>\n",
       "      <td>2014-04-22 03:53:30</td>\n",
       "      <td>Clausen August</td>\n",
       "      <td>AugustCClausen@yahoo.com</td>\n",
       "      <td>GUEST_INVITE</td>\n",
       "      <td>1.398139e+09</td>\n",
       "      <td>1</td>\n",
       "      <td>0</td>\n",
       "      <td>11</td>\n",
       "      <td>10803.0</td>\n",
       "    </tr>\n",
       "    <tr>\n",
       "      <th>1</th>\n",
       "      <td>2</td>\n",
       "      <td>2013-11-15 03:45:04</td>\n",
       "      <td>Poole Matthew</td>\n",
       "      <td>MatthewPoole@gustr.com</td>\n",
       "      <td>ORG_INVITE</td>\n",
       "      <td>1.396238e+09</td>\n",
       "      <td>0</td>\n",
       "      <td>0</td>\n",
       "      <td>1</td>\n",
       "      <td>316.0</td>\n",
       "    </tr>\n",
       "  </tbody>\n",
       "</table>\n",
       "</div>"
      ],
      "text/plain": [
       "   object_id       creation_time            name                     email  \\\n",
       "0          1 2014-04-22 03:53:30  Clausen August  AugustCClausen@yahoo.com   \n",
       "1          2 2013-11-15 03:45:04   Poole Matthew    MatthewPoole@gustr.com   \n",
       "\n",
       "  creation_source  last_session_creation_time  opted_in_to_mailing_list  \\\n",
       "0    GUEST_INVITE                1.398139e+09                         1   \n",
       "1      ORG_INVITE                1.396238e+09                         0   \n",
       "\n",
       "   enabled_for_marketing_drip  org_id  invited_by_user_id  \n",
       "0                           0      11             10803.0  \n",
       "1                           0       1               316.0  "
      ]
     },
     "execution_count": 3,
     "metadata": {},
     "output_type": "execute_result"
    }
   ],
   "source": [
    "# User data\n",
    "user_df = pd.read_csv('takehome_users.csv', parse_dates=['creation_time'], encoding='latin-1')\n",
    "print(user_df.info())\n",
    "user_df.head(2)"
   ]
  },
  {
   "cell_type": "code",
   "execution_count": 4,
   "metadata": {},
   "outputs": [
    {
     "data": {
      "text/html": [
       "<div>\n",
       "<style scoped>\n",
       "    .dataframe tbody tr th:only-of-type {\n",
       "        vertical-align: middle;\n",
       "    }\n",
       "\n",
       "    .dataframe tbody tr th {\n",
       "        vertical-align: top;\n",
       "    }\n",
       "\n",
       "    .dataframe thead th {\n",
       "        text-align: right;\n",
       "    }\n",
       "</style>\n",
       "<table border=\"1\" class=\"dataframe\">\n",
       "  <thead>\n",
       "    <tr style=\"text-align: right;\">\n",
       "      <th></th>\n",
       "      <th>user_id</th>\n",
       "      <th>creation_time</th>\n",
       "      <th>name</th>\n",
       "      <th>email</th>\n",
       "      <th>creation_source</th>\n",
       "      <th>last_session_creation_time</th>\n",
       "      <th>opted_in_to_mailing_list</th>\n",
       "      <th>enabled_for_marketing_drip</th>\n",
       "      <th>org_id</th>\n",
       "      <th>invited_by_user_id</th>\n",
       "    </tr>\n",
       "  </thead>\n",
       "  <tbody>\n",
       "    <tr>\n",
       "      <th>0</th>\n",
       "      <td>1</td>\n",
       "      <td>2014-04-22 03:53:30</td>\n",
       "      <td>Clausen August</td>\n",
       "      <td>AugustCClausen@yahoo.com</td>\n",
       "      <td>GUEST_INVITE</td>\n",
       "      <td>2014-04-22 03:53:30</td>\n",
       "      <td>1</td>\n",
       "      <td>0</td>\n",
       "      <td>11</td>\n",
       "      <td>10803.0</td>\n",
       "    </tr>\n",
       "    <tr>\n",
       "      <th>1</th>\n",
       "      <td>2</td>\n",
       "      <td>2013-11-15 03:45:04</td>\n",
       "      <td>Poole Matthew</td>\n",
       "      <td>MatthewPoole@gustr.com</td>\n",
       "      <td>ORG_INVITE</td>\n",
       "      <td>2014-03-31 03:45:04</td>\n",
       "      <td>0</td>\n",
       "      <td>0</td>\n",
       "      <td>1</td>\n",
       "      <td>316.0</td>\n",
       "    </tr>\n",
       "  </tbody>\n",
       "</table>\n",
       "</div>"
      ],
      "text/plain": [
       "   user_id       creation_time            name                     email  \\\n",
       "0        1 2014-04-22 03:53:30  Clausen August  AugustCClausen@yahoo.com   \n",
       "1        2 2013-11-15 03:45:04   Poole Matthew    MatthewPoole@gustr.com   \n",
       "\n",
       "  creation_source last_session_creation_time  opted_in_to_mailing_list  \\\n",
       "0    GUEST_INVITE        2014-04-22 03:53:30                         1   \n",
       "1      ORG_INVITE        2014-03-31 03:45:04                         0   \n",
       "\n",
       "   enabled_for_marketing_drip  org_id  invited_by_user_id  \n",
       "0                           0      11             10803.0  \n",
       "1                           0       1               316.0  "
      ]
     },
     "execution_count": 4,
     "metadata": {},
     "output_type": "execute_result"
    }
   ],
   "source": [
    "# Rename `object_id` to `user_id`\n",
    "user_df.rename(columns={'object_id': 'user_id'}, inplace=True)\n",
    "\n",
    "# Convert `last_session_creation_time` to datetime\n",
    "user_df['last_session_creation_time'] = pd.to_datetime(user_df.last_session_creation_time, unit='s')\n",
    "user_df.head(2)"
   ]
  },
  {
   "cell_type": "markdown",
   "metadata": {},
   "source": [
    "### Label adopted users and count usage for each user"
   ]
  },
  {
   "cell_type": "code",
   "execution_count": 5,
   "metadata": {},
   "outputs": [
    {
     "name": "stdout",
     "output_type": "stream",
     "text": [
      "1445\n"
     ]
    },
    {
     "data": {
      "text/html": [
       "<div>\n",
       "<style scoped>\n",
       "    .dataframe tbody tr th:only-of-type {\n",
       "        vertical-align: middle;\n",
       "    }\n",
       "\n",
       "    .dataframe tbody tr th {\n",
       "        vertical-align: top;\n",
       "    }\n",
       "\n",
       "    .dataframe thead th {\n",
       "        text-align: right;\n",
       "    }\n",
       "</style>\n",
       "<table border=\"1\" class=\"dataframe\">\n",
       "  <thead>\n",
       "    <tr style=\"text-align: right;\">\n",
       "      <th></th>\n",
       "      <th></th>\n",
       "      <th>visited</th>\n",
       "    </tr>\n",
       "    <tr>\n",
       "      <th>user_id</th>\n",
       "      <th>time_stamp</th>\n",
       "      <th></th>\n",
       "    </tr>\n",
       "  </thead>\n",
       "  <tbody>\n",
       "    <tr>\n",
       "      <th>1</th>\n",
       "      <th>2014-04-17</th>\n",
       "      <td>1</td>\n",
       "    </tr>\n",
       "    <tr>\n",
       "      <th>2</th>\n",
       "      <th>2013-11-14</th>\n",
       "      <td>1</td>\n",
       "    </tr>\n",
       "  </tbody>\n",
       "</table>\n",
       "</div>"
      ],
      "text/plain": [
       "                    visited\n",
       "user_id time_stamp         \n",
       "1       2014-04-17        1\n",
       "2       2013-11-14        1"
      ]
     },
     "execution_count": 5,
     "metadata": {},
     "output_type": "execute_result"
    }
   ],
   "source": [
    "# Group visits by each user's weekly visits\n",
    "weekly_usage_df = usage_df.groupby(['user_id', pd.Grouper(key='time_stamp', freq='7d')]).count()\n",
    "\n",
    "# Filter for users who visited at least 3 times during any week\n",
    "adopted_usage_df = weekly_usage_df[weekly_usage_df['visited'] >= 3]\n",
    "adopted_users = adopted_usage_df.index.get_level_values(0).unique().values\n",
    "\n",
    "print(len(adopted_users))\n",
    "weekly_usage_df.head(2)"
   ]
  },
  {
   "cell_type": "code",
   "execution_count": 6,
   "metadata": {},
   "outputs": [
    {
     "data": {
      "text/html": [
       "<div>\n",
       "<style scoped>\n",
       "    .dataframe tbody tr th:only-of-type {\n",
       "        vertical-align: middle;\n",
       "    }\n",
       "\n",
       "    .dataframe tbody tr th {\n",
       "        vertical-align: top;\n",
       "    }\n",
       "\n",
       "    .dataframe thead th {\n",
       "        text-align: right;\n",
       "    }\n",
       "</style>\n",
       "<table border=\"1\" class=\"dataframe\">\n",
       "  <thead>\n",
       "    <tr style=\"text-align: right;\">\n",
       "      <th></th>\n",
       "      <th>user_id</th>\n",
       "      <th>creation_time</th>\n",
       "      <th>name</th>\n",
       "      <th>email</th>\n",
       "      <th>creation_source</th>\n",
       "      <th>last_session_creation_time</th>\n",
       "      <th>opted_in_to_mailing_list</th>\n",
       "      <th>enabled_for_marketing_drip</th>\n",
       "      <th>org_id</th>\n",
       "      <th>invited_by_user_id</th>\n",
       "      <th>adopted_user</th>\n",
       "    </tr>\n",
       "  </thead>\n",
       "  <tbody>\n",
       "    <tr>\n",
       "      <th>0</th>\n",
       "      <td>1</td>\n",
       "      <td>2014-04-22 03:53:30</td>\n",
       "      <td>Clausen August</td>\n",
       "      <td>AugustCClausen@yahoo.com</td>\n",
       "      <td>GUEST_INVITE</td>\n",
       "      <td>2014-04-22 03:53:30</td>\n",
       "      <td>1</td>\n",
       "      <td>0</td>\n",
       "      <td>11</td>\n",
       "      <td>10803.0</td>\n",
       "      <td>0</td>\n",
       "    </tr>\n",
       "    <tr>\n",
       "      <th>1</th>\n",
       "      <td>2</td>\n",
       "      <td>2013-11-15 03:45:04</td>\n",
       "      <td>Poole Matthew</td>\n",
       "      <td>MatthewPoole@gustr.com</td>\n",
       "      <td>ORG_INVITE</td>\n",
       "      <td>2014-03-31 03:45:04</td>\n",
       "      <td>0</td>\n",
       "      <td>0</td>\n",
       "      <td>1</td>\n",
       "      <td>316.0</td>\n",
       "      <td>0</td>\n",
       "    </tr>\n",
       "  </tbody>\n",
       "</table>\n",
       "</div>"
      ],
      "text/plain": [
       "   user_id       creation_time            name                     email  \\\n",
       "0        1 2014-04-22 03:53:30  Clausen August  AugustCClausen@yahoo.com   \n",
       "1        2 2013-11-15 03:45:04   Poole Matthew    MatthewPoole@gustr.com   \n",
       "\n",
       "  creation_source last_session_creation_time  opted_in_to_mailing_list  \\\n",
       "0    GUEST_INVITE        2014-04-22 03:53:30                         1   \n",
       "1      ORG_INVITE        2014-03-31 03:45:04                         0   \n",
       "\n",
       "   enabled_for_marketing_drip  org_id  invited_by_user_id  adopted_user  \n",
       "0                           0      11             10803.0             0  \n",
       "1                           0       1               316.0             0  "
      ]
     },
     "execution_count": 6,
     "metadata": {},
     "output_type": "execute_result"
    }
   ],
   "source": [
    "# Create label for adopted users\n",
    "# user_df['adopted_user'] = np.where(user_df['user_id'].isin(adopted_users), 1, 0)\n",
    "user_df['adopted_user'] = user_df['user_id'].isin(adopted_users).astype(int)\n",
    "assert user_df['adopted_user'].sum() == len(adopted_users) # confirm equal length\n",
    "user_df.head(2)"
   ]
  },
  {
   "cell_type": "code",
   "execution_count": 7,
   "metadata": {},
   "outputs": [
    {
     "data": {
      "text/html": [
       "<div>\n",
       "<style scoped>\n",
       "    .dataframe tbody tr th:only-of-type {\n",
       "        vertical-align: middle;\n",
       "    }\n",
       "\n",
       "    .dataframe tbody tr th {\n",
       "        vertical-align: top;\n",
       "    }\n",
       "\n",
       "    .dataframe thead th {\n",
       "        text-align: right;\n",
       "    }\n",
       "</style>\n",
       "<table border=\"1\" class=\"dataframe\">\n",
       "  <thead>\n",
       "    <tr style=\"text-align: right;\">\n",
       "      <th></th>\n",
       "      <th>user_id</th>\n",
       "      <th>creation_time</th>\n",
       "      <th>name</th>\n",
       "      <th>email</th>\n",
       "      <th>creation_source</th>\n",
       "      <th>last_session_creation_time</th>\n",
       "      <th>opted_in_to_mailing_list</th>\n",
       "      <th>enabled_for_marketing_drip</th>\n",
       "      <th>org_id</th>\n",
       "      <th>invited_by_user_id</th>\n",
       "      <th>adopted_user</th>\n",
       "      <th>visited</th>\n",
       "    </tr>\n",
       "  </thead>\n",
       "  <tbody>\n",
       "    <tr>\n",
       "      <th>0</th>\n",
       "      <td>1</td>\n",
       "      <td>2014-04-22 03:53:30</td>\n",
       "      <td>Clausen August</td>\n",
       "      <td>AugustCClausen@yahoo.com</td>\n",
       "      <td>GUEST_INVITE</td>\n",
       "      <td>2014-04-22 03:53:30</td>\n",
       "      <td>1</td>\n",
       "      <td>0</td>\n",
       "      <td>11</td>\n",
       "      <td>10803.0</td>\n",
       "      <td>0</td>\n",
       "      <td>1</td>\n",
       "    </tr>\n",
       "    <tr>\n",
       "      <th>1</th>\n",
       "      <td>2</td>\n",
       "      <td>2013-11-15 03:45:04</td>\n",
       "      <td>Poole Matthew</td>\n",
       "      <td>MatthewPoole@gustr.com</td>\n",
       "      <td>ORG_INVITE</td>\n",
       "      <td>2014-03-31 03:45:04</td>\n",
       "      <td>0</td>\n",
       "      <td>0</td>\n",
       "      <td>1</td>\n",
       "      <td>316.0</td>\n",
       "      <td>0</td>\n",
       "      <td>14</td>\n",
       "    </tr>\n",
       "  </tbody>\n",
       "</table>\n",
       "</div>"
      ],
      "text/plain": [
       "   user_id       creation_time            name                     email  \\\n",
       "0        1 2014-04-22 03:53:30  Clausen August  AugustCClausen@yahoo.com   \n",
       "1        2 2013-11-15 03:45:04   Poole Matthew    MatthewPoole@gustr.com   \n",
       "\n",
       "  creation_source last_session_creation_time  opted_in_to_mailing_list  \\\n",
       "0    GUEST_INVITE        2014-04-22 03:53:30                         1   \n",
       "1      ORG_INVITE        2014-03-31 03:45:04                         0   \n",
       "\n",
       "   enabled_for_marketing_drip  org_id  invited_by_user_id  adopted_user  \\\n",
       "0                           0      11             10803.0             0   \n",
       "1                           0       1               316.0             0   \n",
       "\n",
       "   visited  \n",
       "0        1  \n",
       "1       14  "
      ]
     },
     "execution_count": 7,
     "metadata": {},
     "output_type": "execute_result"
    }
   ],
   "source": [
    "# Create a feature for the number of times each user logged in\n",
    "usage_count_df = usage_df.groupby('user_id', as_index=False).sum()\n",
    "user_df = user_df.merge(usage_count_df, on='user_id', how='left')\n",
    "user_df['visited'] = user_df['visited'].fillna(0).astype(int) # fill missing with 0\n",
    "user_df.head(2)"
   ]
  },
  {
   "cell_type": "markdown",
   "metadata": {},
   "source": [
    "### Split data"
   ]
  },
  {
   "cell_type": "code",
   "execution_count": 8,
   "metadata": {},
   "outputs": [
    {
     "data": {
      "text/plain": [
       "((9000, 11), (3000, 11), (9000,), (3000,))"
      ]
     },
     "execution_count": 8,
     "metadata": {},
     "output_type": "execute_result"
    }
   ],
   "source": [
    "# Split features and label\n",
    "X = user_df.drop('adopted_user', axis=1)\n",
    "y = user_df['adopted_user'].copy()\n",
    "X_train, X_test, y_train, y_test = train_test_split(X, y, test_size=0.25, random_state=25, stratify=y)\n",
    "X_train.shape, X_test.shape, y_train.shape, y_test.shape"
   ]
  },
  {
   "cell_type": "code",
   "execution_count": 9,
   "metadata": {},
   "outputs": [
    {
     "data": {
      "text/plain": [
       "0    7916\n",
       "1    1084\n",
       "Name: adopted_user, dtype: int64"
      ]
     },
     "execution_count": 9,
     "metadata": {},
     "output_type": "execute_result"
    }
   ],
   "source": [
    "# Class (im)balance\n",
    "y_train.value_counts()"
   ]
  },
  {
   "cell_type": "markdown",
   "metadata": {},
   "source": [
    "### Resample data"
   ]
  },
  {
   "cell_type": "code",
   "execution_count": 10,
   "metadata": {},
   "outputs": [
    {
     "name": "stdout",
     "output_type": "stream",
     "text": [
      "<class 'pandas.core.frame.DataFrame'>\n",
      "Int64Index: 9000 entries, 906 to 920\n",
      "Data columns (total 12 columns):\n",
      " #   Column                      Non-Null Count  Dtype         \n",
      "---  ------                      --------------  -----         \n",
      " 0   user_id                     9000 non-null   int64         \n",
      " 1   creation_time               9000 non-null   datetime64[ns]\n",
      " 2   name                        9000 non-null   object        \n",
      " 3   email                       9000 non-null   object        \n",
      " 4   creation_source             9000 non-null   object        \n",
      " 5   last_session_creation_time  6603 non-null   datetime64[ns]\n",
      " 6   opted_in_to_mailing_list    9000 non-null   int64         \n",
      " 7   enabled_for_marketing_drip  9000 non-null   int64         \n",
      " 8   org_id                      9000 non-null   int64         \n",
      " 9   invited_by_user_id          4843 non-null   float64       \n",
      " 10  visited                     9000 non-null   int64         \n",
      " 11  adopted_user                9000 non-null   int64         \n",
      "dtypes: datetime64[ns](2), float64(1), int64(6), object(3)\n",
      "memory usage: 1.1+ MB\n"
     ]
    }
   ],
   "source": [
    "def join_label_into_feats(X, y):\n",
    "    df = X.merge(y, left_index=True, right_index=True)\n",
    "    return df\n",
    "\n",
    "# Test function\n",
    "train = join_label_into_feats(X_train, y_train)\n",
    "train.info()"
   ]
  },
  {
   "cell_type": "code",
   "execution_count": 11,
   "metadata": {},
   "outputs": [
    {
     "data": {
      "text/plain": [
       "((9000, 12), (7916, 12), (1084, 12))"
      ]
     },
     "execution_count": 11,
     "metadata": {},
     "output_type": "execute_result"
    }
   ],
   "source": [
    "# Split train data by label\n",
    "train0 = train[train['adopted_user'] == 0].copy()\n",
    "train1 = train[train['adopted_user'] == 1].copy()\n",
    "train.shape, train0.shape, train1.shape"
   ]
  },
  {
   "cell_type": "code",
   "execution_count": 12,
   "metadata": {},
   "outputs": [
    {
     "data": {
      "text/plain": [
       "0    7916\n",
       "1    7916\n",
       "Name: adopted_user, dtype: int64"
      ]
     },
     "execution_count": 12,
     "metadata": {},
     "output_type": "execute_result"
    }
   ],
   "source": [
    "# Upsample positive labels\n",
    "train1_resampled = train1.sample(train0.shape[0], replace=True, random_state=10)\n",
    "\n",
    "# Combine training data\n",
    "train_resampled = pd.concat([train0, train1_resampled]).reset_index(drop=True)\n",
    "train_resampled['adopted_user'].value_counts()"
   ]
  },
  {
   "cell_type": "code",
   "execution_count": 13,
   "metadata": {},
   "outputs": [
    {
     "data": {
      "text/plain": [
       "((15832, 11), (15832,))"
      ]
     },
     "execution_count": 13,
     "metadata": {},
     "output_type": "execute_result"
    }
   ],
   "source": [
    "# Split features and label\n",
    "X_train_resampled = train_resampled.drop('adopted_user', axis=1)\n",
    "y_train_resampled = train_resampled['adopted_user'].copy()\n",
    "X_train_resampled.shape, y_train_resampled.shape"
   ]
  },
  {
   "cell_type": "code",
   "execution_count": 14,
   "metadata": {},
   "outputs": [
    {
     "data": {
      "text/plain": [
       "((15832, 11), (15832,))"
      ]
     },
     "execution_count": 14,
     "metadata": {},
     "output_type": "execute_result"
    }
   ],
   "source": [
    "# Copy train set for preprocessing\n",
    "X_train_preprocessed = X_train_resampled.copy()\n",
    "y_train_preprocessed = y_train_resampled.copy()\n",
    "X_train_preprocessed.shape, y_train_preprocessed.shape"
   ]
  },
  {
   "cell_type": "markdown",
   "metadata": {},
   "source": [
    "### Datetime EDA"
   ]
  },
  {
   "cell_type": "code",
   "execution_count": 15,
   "metadata": {},
   "outputs": [
    {
     "data": {
      "text/plain": [
       "0.0      6716\n",
       "1.0      3401\n",
       "999.0    2397\n",
       "2.0      1741\n",
       "3.0       751\n",
       "4.0       406\n",
       "5.0       229\n",
       "6.0       122\n",
       "7.0        43\n",
       "8.0        13\n",
       "9.0         6\n",
       "10.0        3\n",
       "12.0        2\n",
       "14.0        1\n",
       "11.0        1\n",
       "Name: days_to_first_use, dtype: int64"
      ]
     },
     "execution_count": 15,
     "metadata": {},
     "output_type": "execute_result"
    }
   ],
   "source": [
    "# Create a feature for each user's first day of use\n",
    "first_use = dict(usage_df.groupby('user_id')['time_stamp'].min()) # save for feature pipeline\n",
    "X_train_preprocessed['first_use'] = X_train_preprocessed['user_id'].map(first_use)\n",
    "\n",
    "# Create a feature for the number of days between account creation and first use\n",
    "X_train_preprocessed['days_to_first_use'] = (X_train_preprocessed['first_use'] - X_train_preprocessed['creation_time']).dt.days\n",
    "X_train_preprocessed['days_to_first_use'].fillna(999, inplace=True)\n",
    "X_train_preprocessed['days_to_first_use'].value_counts()"
   ]
  },
  {
   "cell_type": "code",
   "execution_count": 16,
   "metadata": {},
   "outputs": [
    {
     "data": {
      "text/plain": [
       "0    9116\n",
       "1    6716\n",
       "Name: same_day_use, dtype: int64"
      ]
     },
     "execution_count": 16,
     "metadata": {},
     "output_type": "execute_result"
    }
   ],
   "source": [
    "# Create a feature for same day use\n",
    "X_train_preprocessed['same_day_use'] = (X_train_preprocessed['days_to_first_use'] == 0).astype(int)\n",
    "X_train_preprocessed['same_day_use'].value_counts()"
   ]
  },
  {
   "cell_type": "code",
   "execution_count": 17,
   "metadata": {},
   "outputs": [
    {
     "name": "stdout",
     "output_type": "stream",
     "text": [
      "59.96% of users who login within the same DAY as creating an account are adopted users.\n",
      "59.01% of users who login within the same WEEK as creating an account are adopted users.\n",
      "58.92% of users who login within the same MONTH as creating an account are adopted users.\n"
     ]
    }
   ],
   "source": [
    "# Join label into features\n",
    "train_preprocessed = join_label_into_feats(X_train_preprocessed, y_train_preprocessed)\n",
    "\n",
    "# User adoption rate of users who login within the first n days\n",
    "ar_1d = train_preprocessed[train_preprocessed['days_to_first_use'] < 1]['adopted_user'].mean()\n",
    "ar_7d = train_preprocessed[train_preprocessed['days_to_first_use'] < 7]['adopted_user'].mean()\n",
    "ar_30d = train_preprocessed[train_preprocessed['days_to_first_use'] < 30]['adopted_user'].mean()\n",
    "\n",
    "print(f'{ar_1d * 100:.2f}% of users who login within the same DAY as creating an account are adopted users.')\n",
    "print(f'{ar_7d * 100:.2f}% of users who login within the same WEEK as creating an account are adopted users.')\n",
    "print(f'{ar_30d * 100:.2f}% of users who login within the same MONTH as creating an account are adopted users.')"
   ]
  },
  {
   "cell_type": "code",
   "execution_count": 18,
   "metadata": {},
   "outputs": [
    {
     "data": {
      "text/html": [
       "<div>\n",
       "<style scoped>\n",
       "    .dataframe tbody tr th:only-of-type {\n",
       "        vertical-align: middle;\n",
       "    }\n",
       "\n",
       "    .dataframe tbody tr th {\n",
       "        vertical-align: top;\n",
       "    }\n",
       "\n",
       "    .dataframe thead th {\n",
       "        text-align: right;\n",
       "    }\n",
       "</style>\n",
       "<table border=\"1\" class=\"dataframe\">\n",
       "  <thead>\n",
       "    <tr style=\"text-align: right;\">\n",
       "      <th></th>\n",
       "      <th>creation_month</th>\n",
       "      <th>adoption_rate</th>\n",
       "    </tr>\n",
       "  </thead>\n",
       "  <tbody>\n",
       "    <tr>\n",
       "      <th>0</th>\n",
       "      <td>2012-05</td>\n",
       "      <td>0.500000</td>\n",
       "    </tr>\n",
       "    <tr>\n",
       "      <th>1</th>\n",
       "      <td>2012-06</td>\n",
       "      <td>0.549912</td>\n",
       "    </tr>\n",
       "    <tr>\n",
       "      <th>2</th>\n",
       "      <td>2012-07</td>\n",
       "      <td>0.564189</td>\n",
       "    </tr>\n",
       "    <tr>\n",
       "      <th>3</th>\n",
       "      <td>2012-08</td>\n",
       "      <td>0.573055</td>\n",
       "    </tr>\n",
       "    <tr>\n",
       "      <th>4</th>\n",
       "      <td>2012-09</td>\n",
       "      <td>0.572131</td>\n",
       "    </tr>\n",
       "    <tr>\n",
       "      <th>5</th>\n",
       "      <td>2012-10</td>\n",
       "      <td>0.541667</td>\n",
       "    </tr>\n",
       "    <tr>\n",
       "      <th>6</th>\n",
       "      <td>2012-11</td>\n",
       "      <td>0.508380</td>\n",
       "    </tr>\n",
       "    <tr>\n",
       "      <th>7</th>\n",
       "      <td>2012-12</td>\n",
       "      <td>0.566102</td>\n",
       "    </tr>\n",
       "    <tr>\n",
       "      <th>8</th>\n",
       "      <td>2013-01</td>\n",
       "      <td>0.504078</td>\n",
       "    </tr>\n",
       "    <tr>\n",
       "      <th>9</th>\n",
       "      <td>2013-02</td>\n",
       "      <td>0.574603</td>\n",
       "    </tr>\n",
       "    <tr>\n",
       "      <th>10</th>\n",
       "      <td>2013-03</td>\n",
       "      <td>0.519623</td>\n",
       "    </tr>\n",
       "    <tr>\n",
       "      <th>11</th>\n",
       "      <td>2013-04</td>\n",
       "      <td>0.594752</td>\n",
       "    </tr>\n",
       "    <tr>\n",
       "      <th>12</th>\n",
       "      <td>2013-05</td>\n",
       "      <td>0.547112</td>\n",
       "    </tr>\n",
       "    <tr>\n",
       "      <th>13</th>\n",
       "      <td>2013-06</td>\n",
       "      <td>0.633566</td>\n",
       "    </tr>\n",
       "    <tr>\n",
       "      <th>14</th>\n",
       "      <td>2013-07</td>\n",
       "      <td>0.522481</td>\n",
       "    </tr>\n",
       "    <tr>\n",
       "      <th>15</th>\n",
       "      <td>2013-08</td>\n",
       "      <td>0.572443</td>\n",
       "    </tr>\n",
       "    <tr>\n",
       "      <th>16</th>\n",
       "      <td>2013-09</td>\n",
       "      <td>0.548201</td>\n",
       "    </tr>\n",
       "    <tr>\n",
       "      <th>17</th>\n",
       "      <td>2013-10</td>\n",
       "      <td>0.537572</td>\n",
       "    </tr>\n",
       "    <tr>\n",
       "      <th>18</th>\n",
       "      <td>2013-11</td>\n",
       "      <td>0.489583</td>\n",
       "    </tr>\n",
       "    <tr>\n",
       "      <th>19</th>\n",
       "      <td>2013-12</td>\n",
       "      <td>0.478955</td>\n",
       "    </tr>\n",
       "    <tr>\n",
       "      <th>20</th>\n",
       "      <td>2014-01</td>\n",
       "      <td>0.565269</td>\n",
       "    </tr>\n",
       "    <tr>\n",
       "      <th>21</th>\n",
       "      <td>2014-02</td>\n",
       "      <td>0.449074</td>\n",
       "    </tr>\n",
       "    <tr>\n",
       "      <th>22</th>\n",
       "      <td>2014-03</td>\n",
       "      <td>0.427046</td>\n",
       "    </tr>\n",
       "    <tr>\n",
       "      <th>23</th>\n",
       "      <td>2014-04</td>\n",
       "      <td>0.186544</td>\n",
       "    </tr>\n",
       "    <tr>\n",
       "      <th>24</th>\n",
       "      <td>2014-05</td>\n",
       "      <td>0.085750</td>\n",
       "    </tr>\n",
       "  </tbody>\n",
       "</table>\n",
       "</div>"
      ],
      "text/plain": [
       "   creation_month  adoption_rate\n",
       "0         2012-05       0.500000\n",
       "1         2012-06       0.549912\n",
       "2         2012-07       0.564189\n",
       "3         2012-08       0.573055\n",
       "4         2012-09       0.572131\n",
       "5         2012-10       0.541667\n",
       "6         2012-11       0.508380\n",
       "7         2012-12       0.566102\n",
       "8         2013-01       0.504078\n",
       "9         2013-02       0.574603\n",
       "10        2013-03       0.519623\n",
       "11        2013-04       0.594752\n",
       "12        2013-05       0.547112\n",
       "13        2013-06       0.633566\n",
       "14        2013-07       0.522481\n",
       "15        2013-08       0.572443\n",
       "16        2013-09       0.548201\n",
       "17        2013-10       0.537572\n",
       "18        2013-11       0.489583\n",
       "19        2013-12       0.478955\n",
       "20        2014-01       0.565269\n",
       "21        2014-02       0.449074\n",
       "22        2014-03       0.427046\n",
       "23        2014-04       0.186544\n",
       "24        2014-05       0.085750"
      ]
     },
     "execution_count": 18,
     "metadata": {},
     "output_type": "execute_result"
    },
    {
     "data": {
      "image/png": "[encoded data removed]",
      "text/plain": [
       "<Figure size 1152x288 with 1 Axes>"
      ]
     },
     "metadata": {
      "needs_background": "light"
     },
     "output_type": "display_data"
    }
   ],
   "source": [
    "# Check adoption rate of each signup month\n",
    "monthly_adoption_df = train_preprocessed.groupby(pd.Grouper(key='creation_time', freq='M'))[['adopted_user']].mean().reset_index()\n",
    "monthly_adoption_df['creation_time'] = monthly_adoption_df['creation_time'].dt.strftime('%Y-%m')\n",
    "monthly_adoption_df.columns = ['creation_month', 'adoption_rate']\n",
    "\n",
    "# Plot monthly adoption\n",
    "plt.figure(figsize=(16, 4))\n",
    "sns.lineplot(data=monthly_adoption_df, x='creation_month', y='adoption_rate')\n",
    "plt.title('Monthly Adoption Rate', fontsize=16)\n",
    "plt.xticks(ticks=range(monthly_adoption_df.shape[0]), labels=monthly_adoption_df['creation_month'], rotation=45, ha='right')\n",
    "plt.xlim((0, monthly_adoption_df.shape[0] - 1))\n",
    "\n",
    "monthly_adoption_df"
   ]
  },
  {
   "cell_type": "markdown",
   "metadata": {},
   "source": [
    "### Categorical EDA"
   ]
  },
  {
   "cell_type": "code",
   "execution_count": 19,
   "metadata": {},
   "outputs": [
    {
     "data": {
      "text/plain": [
       "gmail.com         4923\n",
       "yahoo.com         2989\n",
       "jourrapide.com    1689\n",
       "hotmail.com       1673\n",
       "gustr.com         1518\n",
       "cuvox.de          1474\n",
       "ldguj.com           15\n",
       "kbxlm.com           14\n",
       "fgnyh.com           14\n",
       "mumdc.com           14\n",
       "nxydr.com           13\n",
       "xxxue.com           13\n",
       "qcnhy.com           12\n",
       "mykch.com           12\n",
       "wydvs.com           12\n",
       "bikch.com           11\n",
       "lvwyf.com           11\n",
       "Name: email_domain, dtype: int64"
      ]
     },
     "execution_count": 19,
     "metadata": {},
     "output_type": "execute_result"
    }
   ],
   "source": [
    "# Simplify `invited_by_user_id` to a boolean feature that indicates whether the user was invited\n",
    "X_train_preprocessed['invited'] = (X_train_preprocessed['invited_by_user_id'].notnull()).astype(int)\n",
    "\n",
    "# Extract email domain\n",
    "X_train_preprocessed['email_domain'] = X_train_preprocessed['email'].str.split('@', expand=True)[1]\n",
    "email_domains = X_train_preprocessed['email_domain'].value_counts()\n",
    "email_domains[email_domains > 10]"
   ]
  },
  {
   "cell_type": "code",
   "execution_count": 20,
   "metadata": {},
   "outputs": [
    {
     "data": {
      "text/plain": [
       "gmail.com         4923\n",
       "yahoo.com         2989\n",
       "jourrapide.com    1689\n",
       "hotmail.com       1673\n",
       "other             1566\n",
       "gustr.com         1518\n",
       "cuvox.de          1474\n",
       "Name: email_domain, dtype: int64"
      ]
     },
     "execution_count": 20,
     "metadata": {},
     "output_type": "execute_result"
    }
   ],
   "source": [
    "# Group rare domains into a single category\n",
    "common_domains = email_domains[email_domains > 20].index.values # save for feature pipeline\n",
    "# X_train_preprocessed['email_domain'] = X_train_preprocessed['email_domain'].apply(lambda d: d if d in common_domains else 'other')\n",
    "X_train_preprocessed.loc[~X_train_preprocessed['email_domain'].isin(common_domains), 'email_domain'] = 'other'\n",
    "X_train_preprocessed['email_domain'].value_counts()"
   ]
  },
  {
   "cell_type": "code",
   "execution_count": 21,
   "metadata": {},
   "outputs": [
    {
     "data": {
      "text/html": [
       "<div>\n",
       "<style scoped>\n",
       "    .dataframe tbody tr th:only-of-type {\n",
       "        vertical-align: middle;\n",
       "    }\n",
       "\n",
       "    .dataframe tbody tr th {\n",
       "        vertical-align: top;\n",
       "    }\n",
       "\n",
       "    .dataframe thead th {\n",
       "        text-align: right;\n",
       "    }\n",
       "</style>\n",
       "<table border=\"1\" class=\"dataframe\">\n",
       "  <thead>\n",
       "    <tr style=\"text-align: right;\">\n",
       "      <th></th>\n",
       "      <th>adopted_user</th>\n",
       "      <th>visited</th>\n",
       "    </tr>\n",
       "    <tr>\n",
       "      <th>email_domain</th>\n",
       "      <th></th>\n",
       "      <th></th>\n",
       "    </tr>\n",
       "  </thead>\n",
       "  <tbody>\n",
       "    <tr>\n",
       "      <th>cuvox.de</th>\n",
       "      <td>0.449118</td>\n",
       "      <td>57.508141</td>\n",
       "    </tr>\n",
       "    <tr>\n",
       "      <th>gmail.com</th>\n",
       "      <td>0.529961</td>\n",
       "      <td>75.912452</td>\n",
       "    </tr>\n",
       "    <tr>\n",
       "      <th>gustr.com</th>\n",
       "      <td>0.469697</td>\n",
       "      <td>60.678524</td>\n",
       "    </tr>\n",
       "    <tr>\n",
       "      <th>hotmail.com</th>\n",
       "      <td>0.575613</td>\n",
       "      <td>76.523610</td>\n",
       "    </tr>\n",
       "    <tr>\n",
       "      <th>jourrapide.com</th>\n",
       "      <td>0.495560</td>\n",
       "      <td>74.320900</td>\n",
       "    </tr>\n",
       "    <tr>\n",
       "      <th>other</th>\n",
       "      <td>0.498084</td>\n",
       "      <td>70.102810</td>\n",
       "    </tr>\n",
       "    <tr>\n",
       "      <th>yahoo.com</th>\n",
       "      <td>0.452325</td>\n",
       "      <td>54.745400</td>\n",
       "    </tr>\n",
       "  </tbody>\n",
       "</table>\n",
       "</div>"
      ],
      "text/plain": [
       "                adopted_user    visited\n",
       "email_domain                           \n",
       "cuvox.de            0.449118  57.508141\n",
       "gmail.com           0.529961  75.912452\n",
       "gustr.com           0.469697  60.678524\n",
       "hotmail.com         0.575613  76.523610\n",
       "jourrapide.com      0.495560  74.320900\n",
       "other               0.498084  70.102810\n",
       "yahoo.com           0.452325  54.745400"
      ]
     },
     "execution_count": 21,
     "metadata": {},
     "output_type": "execute_result"
    },
    {
     "data": {
      "image/png": "[encoded data removed]",
      "text/plain": [
       "<Figure size 1152x288 with 2 Axes>"
      ]
     },
     "metadata": {
      "needs_background": "light"
     },
     "output_type": "display_data"
    }
   ],
   "source": [
    "# Join label into features\n",
    "train_preprocessed = join_label_into_feats(X_train_preprocessed, y_train_preprocessed)\n",
    "\n",
    "# User adoption and average logins by email domain\n",
    "fig1, ax1 = plt.subplots(1, 2, figsize=(16, 4))\n",
    "sns.countplot(data=train_preprocessed, x='email_domain', hue='adopted_user', ax=ax1[0])\n",
    "sns.barplot(data=train_preprocessed, x='email_domain', y='visited', ax=ax1[1])\n",
    "ax1[0].set_title('Adopted Users by Email Domain', fontsize=16)\n",
    "ax1[1].set_title('Average Logins by Email Domain', fontsize=16)\n",
    "ax1[0].set_xticklabels(ax1[0].get_xticklabels(), rotation=30, ha='right')\n",
    "ax1[1].set_xticklabels(ax1[1].get_xticklabels(), rotation=30, ha='right')\n",
    "\n",
    "# User adoption rate and average logins by email domain\n",
    "train_preprocessed.groupby('email_domain')[['adopted_user', 'visited']].mean()"
   ]
  },
  {
   "cell_type": "code",
   "execution_count": 22,
   "metadata": {},
   "outputs": [
    {
     "data": {
      "text/html": [
       "<div>\n",
       "<style scoped>\n",
       "    .dataframe tbody tr th:only-of-type {\n",
       "        vertical-align: middle;\n",
       "    }\n",
       "\n",
       "    .dataframe tbody tr th {\n",
       "        vertical-align: top;\n",
       "    }\n",
       "\n",
       "    .dataframe thead th {\n",
       "        text-align: right;\n",
       "    }\n",
       "</style>\n",
       "<table border=\"1\" class=\"dataframe\">\n",
       "  <thead>\n",
       "    <tr style=\"text-align: right;\">\n",
       "      <th></th>\n",
       "      <th>adopted_user</th>\n",
       "      <th>visited</th>\n",
       "    </tr>\n",
       "    <tr>\n",
       "      <th>creation_source</th>\n",
       "      <th></th>\n",
       "      <th></th>\n",
       "    </tr>\n",
       "  </thead>\n",
       "  <tbody>\n",
       "    <tr>\n",
       "      <th>GUEST_INVITE</th>\n",
       "      <td>0.152566</td>\n",
       "      <td>21.634767</td>\n",
       "    </tr>\n",
       "    <tr>\n",
       "      <th>ORG_INVITE</th>\n",
       "      <td>0.115891</td>\n",
       "      <td>16.476493</td>\n",
       "    </tr>\n",
       "    <tr>\n",
       "      <th>PERSONAL_PROJECTS</th>\n",
       "      <td>0.067740</td>\n",
       "      <td>9.105637</td>\n",
       "    </tr>\n",
       "    <tr>\n",
       "      <th>SIGNUP</th>\n",
       "      <td>0.130810</td>\n",
       "      <td>17.989938</td>\n",
       "    </tr>\n",
       "    <tr>\n",
       "      <th>SIGNUP_GOOGLE_AUTH</th>\n",
       "      <td>0.148736</td>\n",
       "      <td>24.738628</td>\n",
       "    </tr>\n",
       "  </tbody>\n",
       "</table>\n",
       "</div>"
      ],
      "text/plain": [
       "                    adopted_user    visited\n",
       "creation_source                            \n",
       "GUEST_INVITE            0.152566  21.634767\n",
       "ORG_INVITE              0.115891  16.476493\n",
       "PERSONAL_PROJECTS       0.067740   9.105637\n",
       "SIGNUP                  0.130810  17.989938\n",
       "SIGNUP_GOOGLE_AUTH      0.148736  24.738628"
      ]
     },
     "execution_count": 22,
     "metadata": {},
     "output_type": "execute_result"
    },
    {
     "data": {
      "image/png": "[encoded data removed]",
      "text/plain": [
       "<Figure size 1152x288 with 2 Axes>"
      ]
     },
     "metadata": {
      "needs_background": "light"
     },
     "output_type": "display_data"
    }
   ],
   "source": [
    "# User adoption and average logins by creation source\n",
    "fig2, ax2 = plt.subplots(1, 2, figsize=(16, 4))\n",
    "sns.countplot(data=train_preprocessed, x='creation_source', hue='adopted_user', ax=ax2[0])\n",
    "sns.barplot(data=train_preprocessed, x='creation_source', y='visited', ax=ax2[1])\n",
    "ax2[0].set_title('Adopted Users by Creation Source', fontsize=16)\n",
    "ax2[1].set_title('Average Logins by Creation Source', fontsize=16)\n",
    "ax2[0].set_xticklabels(ax2[0].get_xticklabels(), rotation=30, ha='right')\n",
    "ax2[1].set_xticklabels(ax2[1].get_xticklabels(), rotation=30, ha='right')\n",
    "\n",
    "# User adoption rate and average logins by creation source\n",
    "user_df.groupby('creation_source')[['adopted_user', 'visited']].mean()"
   ]
  },
  {
   "cell_type": "code",
   "execution_count": 23,
   "metadata": {},
   "outputs": [
    {
     "data": {
      "text/plain": [
       "0      (60.778, 266.0]\n",
       "1      (60.778, 266.0]\n",
       "3      (60.778, 266.0]\n",
       "2      (60.778, 266.0]\n",
       "7      (60.778, 266.0]\n",
       "            ...       \n",
       "355      (0.999, 14.0]\n",
       "386      (0.999, 14.0]\n",
       "294      (0.999, 14.0]\n",
       "410      (0.999, 14.0]\n",
       "416      (0.999, 14.0]\n",
       "Name: org_id, Length: 417, dtype: category\n",
       "Categories (9, interval[float64, right]): [(0.999, 14.0] < (14.0, 20.0] < (20.0, 24.0] < (24.0, 28.0] ... (34.0, 39.0] < (39.0, 46.0] < (46.0, 60.778] < (60.778, 266.0]]"
      ]
     },
     "execution_count": 23,
     "metadata": {},
     "output_type": "execute_result"
    }
   ],
   "source": [
    "# Group organizations by size\n",
    "org_sizes = X_train_preprocessed['org_id'].value_counts()\n",
    "pd.qcut(org_sizes, 9)"
   ]
  },
  {
   "cell_type": "code",
   "execution_count": 24,
   "metadata": {},
   "outputs": [
    {
     "data": {
      "text/plain": [
       "8    4859\n",
       "7    2406\n",
       "5    1738\n",
       "6    1711\n",
       "4    1439\n",
       "1    1395\n",
       "3    1353\n",
       "2     931\n",
       "Name: org_size, dtype: int64"
      ]
     },
     "execution_count": 24,
     "metadata": {},
     "output_type": "execute_result"
    }
   ],
   "source": [
    "# Group organizations into 9 bins depending on size\n",
    "bin_size = 9\n",
    "org_cats = pd.qcut(org_sizes, bin_size, labels=range(bin_size)).to_dict() # save for feature pipeline\n",
    "X_train_preprocessed['org_size'] = X_train_preprocessed['org_id'].map(org_cats)\n",
    "\n",
    "# Group categories 0 and 1\n",
    "X_train_preprocessed.loc[X_train_preprocessed['org_size'] == 0, 'org_size'] = 1\n",
    "X_train_preprocessed['org_size'].value_counts()"
   ]
  },
  {
   "cell_type": "code",
   "execution_count": 25,
   "metadata": {},
   "outputs": [
    {
     "data": {
      "text/html": [
       "<div>\n",
       "<style scoped>\n",
       "    .dataframe tbody tr th:only-of-type {\n",
       "        vertical-align: middle;\n",
       "    }\n",
       "\n",
       "    .dataframe tbody tr th {\n",
       "        vertical-align: top;\n",
       "    }\n",
       "\n",
       "    .dataframe thead th {\n",
       "        text-align: right;\n",
       "    }\n",
       "</style>\n",
       "<table border=\"1\" class=\"dataframe\">\n",
       "  <thead>\n",
       "    <tr style=\"text-align: right;\">\n",
       "      <th></th>\n",
       "      <th>adopted_user</th>\n",
       "      <th>visited</th>\n",
       "    </tr>\n",
       "    <tr>\n",
       "      <th>org_size</th>\n",
       "      <th></th>\n",
       "      <th></th>\n",
       "    </tr>\n",
       "  </thead>\n",
       "  <tbody>\n",
       "    <tr>\n",
       "      <th>1</th>\n",
       "      <td>0.278853</td>\n",
       "      <td>36.142652</td>\n",
       "    </tr>\n",
       "    <tr>\n",
       "      <th>2</th>\n",
       "      <td>0.419979</td>\n",
       "      <td>68.096670</td>\n",
       "    </tr>\n",
       "    <tr>\n",
       "      <th>3</th>\n",
       "      <td>0.473023</td>\n",
       "      <td>55.942350</td>\n",
       "    </tr>\n",
       "    <tr>\n",
       "      <th>4</th>\n",
       "      <td>0.574010</td>\n",
       "      <td>75.699097</td>\n",
       "    </tr>\n",
       "    <tr>\n",
       "      <th>5</th>\n",
       "      <td>0.592060</td>\n",
       "      <td>85.418297</td>\n",
       "    </tr>\n",
       "    <tr>\n",
       "      <th>6</th>\n",
       "      <td>0.541204</td>\n",
       "      <td>81.595558</td>\n",
       "    </tr>\n",
       "    <tr>\n",
       "      <th>7</th>\n",
       "      <td>0.541563</td>\n",
       "      <td>76.498753</td>\n",
       "    </tr>\n",
       "    <tr>\n",
       "      <th>8</th>\n",
       "      <td>0.496398</td>\n",
       "      <td>63.181725</td>\n",
       "    </tr>\n",
       "  </tbody>\n",
       "</table>\n",
       "</div>"
      ],
      "text/plain": [
       "          adopted_user    visited\n",
       "org_size                         \n",
       "1             0.278853  36.142652\n",
       "2             0.419979  68.096670\n",
       "3             0.473023  55.942350\n",
       "4             0.574010  75.699097\n",
       "5             0.592060  85.418297\n",
       "6             0.541204  81.595558\n",
       "7             0.541563  76.498753\n",
       "8             0.496398  63.181725"
      ]
     },
     "execution_count": 25,
     "metadata": {},
     "output_type": "execute_result"
    },
    {
     "data": {
      "image/png": "[encoded data removed]",
      "text/plain": [
       "<Figure size 576x576 with 1 Axes>"
      ]
     },
     "metadata": {
      "needs_background": "light"
     },
     "output_type": "display_data"
    }
   ],
   "source": [
    "# Join label into features\n",
    "train_preprocessed = join_label_into_feats(X_train_preprocessed, y_train_preprocessed)\n",
    "\n",
    "# Adoption rate by organization\n",
    "org_adoption_df = train_preprocessed.groupby('org_size')[['adopted_user', 'visited']].mean()\n",
    "org_adoption_df['adopted_user'].sort_index(ascending=False).plot(kind='barh', figsize=(8, 8))\n",
    "plt.title('Adoption Rate of Different Organization Size Classes', fontsize=16)\n",
    "plt.xlabel('adoption_rate')\n",
    "\n",
    "org_adoption_df"
   ]
  },
  {
   "cell_type": "markdown",
   "metadata": {},
   "source": [
    "### Encode categorical variables"
   ]
  },
  {
   "cell_type": "code",
   "execution_count": 26,
   "metadata": {},
   "outputs": [
    {
     "name": "stdout",
     "output_type": "stream",
     "text": [
      "{'cuvox.de': 0.4491180461329715, 'gmail.com': 0.5299614056469633, 'gustr.com': 0.4696969696969697, 'hotmail.com': 0.5756126718469815, 'jourrapide.com': 0.4955595026642984, 'other': 0.49808429118773945, 'yahoo.com': 0.4523251923720308}\n"
     ]
    },
    {
     "data": {
      "text/plain": [
       "0.529961    4923\n",
       "0.452325    2989\n",
       "0.495560    1689\n",
       "0.575613    1673\n",
       "0.498084    1566\n",
       "0.469697    1518\n",
       "0.449118    1474\n",
       "Name: email_enc, dtype: int64"
      ]
     },
     "execution_count": 26,
     "metadata": {},
     "output_type": "execute_result"
    }
   ],
   "source": [
    "# Create an email_domain-to-adoption_rate mapping\n",
    "dom_ar = train_preprocessed.groupby('email_domain')['adopted_user'].mean().to_dict() # save for feature pipeline\n",
    "print(dom_ar)\n",
    "\n",
    "# Encode `email_domain` with their adoption rate\n",
    "X_train_preprocessed['email_enc'] = X_train_preprocessed['email_domain'].map(dom_ar)\n",
    "X_train_preprocessed['email_enc'].value_counts()"
   ]
  },
  {
   "cell_type": "code",
   "execution_count": 27,
   "metadata": {},
   "outputs": [
    {
     "name": "stdout",
     "output_type": "stream",
     "text": [
      "{'GUEST_INVITE': 0.5648879065361541, 'ORG_INVITE': 0.48997852541159626, 'PERSONAL_PROJECTS': 0.35143487858719646, 'SIGNUP': 0.5246252676659529, 'SIGNUP_GOOGLE_AUTH': 0.5587064676616915}\n"
     ]
    },
    {
     "data": {
      "text/plain": [
       "0.489979    5588\n",
       "0.564888    3167\n",
       "0.524625    2802\n",
       "0.351435    2265\n",
       "0.558706    2010\n",
       "Name: creation_enc, dtype: int64"
      ]
     },
     "execution_count": 27,
     "metadata": {},
     "output_type": "execute_result"
    }
   ],
   "source": [
    "# Create a creation_source-to-adoption_rate mapping\n",
    "src_ar = train_preprocessed.groupby('creation_source')['adopted_user'].mean().to_dict() # save for feature pipeline\n",
    "print(src_ar)\n",
    "\n",
    "# Encode `creation_source` with their adoption rate\n",
    "X_train_preprocessed['creation_enc'] = X_train_preprocessed['creation_source'].map(src_ar)\n",
    "X_train_preprocessed['creation_enc'].value_counts()"
   ]
  },
  {
   "cell_type": "code",
   "execution_count": 28,
   "metadata": {},
   "outputs": [
    {
     "name": "stdout",
     "output_type": "stream",
     "text": [
      "{1: 0.27885304659498206, 2: 0.41997851772287864, 3: 0.4730229120473023, 4: 0.5740097289784573, 5: 0.5920598388952819, 6: 0.5412039742840444, 7: 0.5415627597672485, 8: 0.4963984358921589}\n"
     ]
    },
    {
     "data": {
      "text/plain": [
       "0.496398    4859\n",
       "0.541563    2406\n",
       "0.592060    1738\n",
       "0.541204    1711\n",
       "0.574010    1439\n",
       "0.278853    1395\n",
       "0.473023    1353\n",
       "0.419979     931\n",
       "Name: org_enc, dtype: int64"
      ]
     },
     "execution_count": 28,
     "metadata": {},
     "output_type": "execute_result"
    }
   ],
   "source": [
    "# Create an organization-to-adoption_rate mapping\n",
    "org_ar = train_preprocessed.groupby('org_size')['adopted_user'].mean().to_dict() # save for feature pipeline\n",
    "print(org_ar)\n",
    "\n",
    "# Encode `org_id` with their adoption rate\n",
    "X_train_preprocessed['org_enc'] = X_train_preprocessed['org_size'].map(org_ar)\n",
    "X_train_preprocessed['org_enc'].value_counts()"
   ]
  },
  {
   "cell_type": "markdown",
   "metadata": {},
   "source": [
    "### Select features"
   ]
  },
  {
   "cell_type": "code",
   "execution_count": 29,
   "metadata": {},
   "outputs": [
    {
     "data": {
      "text/html": [
       "<div>\n",
       "<style scoped>\n",
       "    .dataframe tbody tr th:only-of-type {\n",
       "        vertical-align: middle;\n",
       "    }\n",
       "\n",
       "    .dataframe tbody tr th {\n",
       "        vertical-align: top;\n",
       "    }\n",
       "\n",
       "    .dataframe thead th {\n",
       "        text-align: right;\n",
       "    }\n",
       "</style>\n",
       "<table border=\"1\" class=\"dataframe\">\n",
       "  <thead>\n",
       "    <tr style=\"text-align: right;\">\n",
       "      <th></th>\n",
       "      <th>email_enc</th>\n",
       "      <th>creation_enc</th>\n",
       "      <th>org_enc</th>\n",
       "      <th>invited</th>\n",
       "      <th>same_day_use</th>\n",
       "      <th>opted_in_to_mailing_list</th>\n",
       "      <th>enabled_for_marketing_drip</th>\n",
       "    </tr>\n",
       "  </thead>\n",
       "  <tbody>\n",
       "    <tr>\n",
       "      <th>0</th>\n",
       "      <td>0.498084</td>\n",
       "      <td>0.489979</td>\n",
       "      <td>0.57401</td>\n",
       "      <td>1</td>\n",
       "      <td>0</td>\n",
       "      <td>0</td>\n",
       "      <td>0</td>\n",
       "    </tr>\n",
       "    <tr>\n",
       "      <th>1</th>\n",
       "      <td>0.529961</td>\n",
       "      <td>0.489979</td>\n",
       "      <td>0.57401</td>\n",
       "      <td>1</td>\n",
       "      <td>0</td>\n",
       "      <td>1</td>\n",
       "      <td>1</td>\n",
       "    </tr>\n",
       "  </tbody>\n",
       "</table>\n",
       "</div>"
      ],
      "text/plain": [
       "   email_enc  creation_enc  org_enc  invited  same_day_use  \\\n",
       "0   0.498084      0.489979  0.57401        1             0   \n",
       "1   0.529961      0.489979  0.57401        1             0   \n",
       "\n",
       "   opted_in_to_mailing_list  enabled_for_marketing_drip  \n",
       "0                         0                           0  \n",
       "1                         1                           1  "
      ]
     },
     "execution_count": 29,
     "metadata": {},
     "output_type": "execute_result"
    }
   ],
   "source": [
    "# Select features for train set\n",
    "selected_cols = ['email_enc', 'creation_enc', 'org_enc', 'invited', 'same_day_use', \n",
    "                 'opted_in_to_mailing_list', 'enabled_for_marketing_drip']\n",
    "X_train_preprocessed = X_train_preprocessed[selected_cols].copy()\n",
    "X_train_preprocessed.head(2)"
   ]
  },
  {
   "cell_type": "markdown",
   "metadata": {},
   "source": [
    "### Feature pipeline"
   ]
  },
  {
   "cell_type": "code",
   "execution_count": 30,
   "metadata": {},
   "outputs": [
    {
     "data": {
      "text/plain": [
       "True"
      ]
     },
     "execution_count": 30,
     "metadata": {},
     "output_type": "execute_result"
    }
   ],
   "source": [
    "def feature_pipeline(data, first_use_mapping, domain_list, domain_encoding, \n",
    "                     org_bins, org_encoding, source_encoding, selected_features):\n",
    "    \n",
    "    \"\"\"\n",
    "    Feature pipeline:\n",
    "    - email_enc\n",
    "        > email_domain (extract domain from email, rare-category encode email_domain w/ `common_domains`) \n",
    "        > email_enc (mean-target encode email_domain w/ `dom_ar`)\n",
    "    - creation_enc (mean-target encode creation_source w/ `src_ar`)\n",
    "    - org_enc\n",
    "        > org_size (bin org_id value counts w/ `org_cats`, combine bins 0 and 1)\n",
    "        > org_enc (mean-target encode org_size w/ `org_ar`)\n",
    "    - invited (binary encode invited_by_user_id)\n",
    "    - same_day_use\n",
    "        > first_use (encode user_id w/ `first_use`) \n",
    "        > days_to_first_use (diff first_use and creation_time in days, fill na w/ 999) \n",
    "        > same_day_use (binary encode days_to_first_use)\n",
    "    - select features: 'email_enc', 'creation_enc', 'org_enc', 'invited', 'same_day_use', \n",
    "                       'opted_in_to_mailing_list', 'enabled_for_marketing_drip'\n",
    "    \"\"\"\n",
    "    \n",
    "    data = data.copy()\n",
    "    \n",
    "    # Encode email domains with their adoption rates\n",
    "    data['email_domain'] = data['email'].str.split('@', expand=True)[1] # email domain\n",
    "    data.loc[~data['email_domain'].isin(common_domains), 'email_domain'] = 'other' # encode rare categories\n",
    "    data['email_enc'] = data['email_domain'].map(domain_encoding)\n",
    "\n",
    "    # Encode creation sources with their adoption rates\n",
    "    data['creation_enc'] = data['creation_source'].map(source_encoding)\n",
    "    \n",
    "    # Encode organization sizes with their adoption rates\n",
    "    data['org_size'] = data['org_id'].map(org_bins) # group organizations into size bins\n",
    "    data.loc[data['org_size'] == 0, 'org_size'] = 1 # group bins 0 and 1\n",
    "    data['org_enc'] = data['org_size'].map(org_encoding)\n",
    "    \n",
    "    # Create a binary feature for invited\n",
    "    data['invited'] = (data['invited_by_user_id'].notnull()).astype(int)\n",
    "    \n",
    "    # Create binary feature for same day use\n",
    "    data['first_use'] = data['user_id'].map(first_use_mapping) # first day of use\n",
    "    data['days_to_first_use'] = (data['first_use'] - data['creation_time']).dt.days # number of days to first use\n",
    "    data['days_to_first_use'].fillna(999, inplace=True)\n",
    "    data['same_day_use'] = (data['days_to_first_use'] == 0).astype(int)\n",
    "    \n",
    "    # Select features\n",
    "    data = data[selected_features].copy()\n",
    "    \n",
    "    return data\n",
    "\n",
    "\n",
    "# Test pipeline\n",
    "X_train_pipelined = feature_pipeline(X_train_resampled, first_use, common_domains, dom_ar, org_cats, org_ar, src_ar, selected_cols)\n",
    "X_train_pipelined.equals(X_train_preprocessed)"
   ]
  },
  {
   "cell_type": "code",
   "execution_count": 31,
   "metadata": {},
   "outputs": [
    {
     "data": {
      "text/plain": [
       "((3000, 7), (3000,))"
      ]
     },
     "execution_count": 31,
     "metadata": {},
     "output_type": "execute_result"
    }
   ],
   "source": [
    "# Preprocess test set\n",
    "X_test_preprocessed = feature_pipeline(X_test, first_use, common_domains, dom_ar, org_cats, org_ar, src_ar, selected_cols)\n",
    "y_test_preprocessed = y_test.copy()\n",
    "X_test_preprocessed.shape, y_test_preprocessed.shape"
   ]
  },
  {
   "cell_type": "markdown",
   "metadata": {},
   "source": [
    "### Modeling 1 - selected feature set"
   ]
  },
  {
   "cell_type": "code",
   "execution_count": 32,
   "metadata": {},
   "outputs": [
    {
     "name": "stdout",
     "output_type": "stream",
     "text": [
      "<class 'pandas.core.frame.DataFrame'>\n",
      "RangeIndex: 15832 entries, 0 to 15831\n",
      "Data columns (total 7 columns):\n",
      " #   Column                      Non-Null Count  Dtype  \n",
      "---  ------                      --------------  -----  \n",
      " 0   email_enc                   15832 non-null  float64\n",
      " 1   creation_enc                15832 non-null  float64\n",
      " 2   org_enc                     15832 non-null  float64\n",
      " 3   invited                     15832 non-null  int64  \n",
      " 4   same_day_use                15832 non-null  int64  \n",
      " 5   opted_in_to_mailing_list    15832 non-null  int64  \n",
      " 6   enabled_for_marketing_drip  15832 non-null  int64  \n",
      "dtypes: float64(3), int64(4)\n",
      "memory usage: 865.9 KB\n"
     ]
    }
   ],
   "source": [
    "# Preprocessed train set\n",
    "X_train_preprocessed.info()"
   ]
  },
  {
   "cell_type": "code",
   "execution_count": 33,
   "metadata": {},
   "outputs": [
    {
     "name": "stdout",
     "output_type": "stream",
     "text": [
      "<class 'pandas.core.frame.DataFrame'>\n",
      "Int64Index: 3000 entries, 7241 to 2089\n",
      "Data columns (total 7 columns):\n",
      " #   Column                      Non-Null Count  Dtype  \n",
      "---  ------                      --------------  -----  \n",
      " 0   email_enc                   3000 non-null   float64\n",
      " 1   creation_enc                3000 non-null   float64\n",
      " 2   org_enc                     3000 non-null   float64\n",
      " 3   invited                     3000 non-null   int64  \n",
      " 4   same_day_use                3000 non-null   int64  \n",
      " 5   opted_in_to_mailing_list    3000 non-null   int64  \n",
      " 6   enabled_for_marketing_drip  3000 non-null   int64  \n",
      "dtypes: float64(3), int64(4)\n",
      "memory usage: 187.5 KB\n"
     ]
    }
   ],
   "source": [
    "# Preprocessed test set\n",
    "X_test_preprocessed.info()"
   ]
  },
  {
   "cell_type": "code",
   "execution_count": 34,
   "metadata": {},
   "outputs": [
    {
     "data": {
      "text/plain": [
       "(LogisticRegression(),\n",
       " array([0, 1, 0, ..., 1, 1, 1]),\n",
       " array([0, 0, 0, ..., 1, 1, 0]))"
      ]
     },
     "execution_count": 34,
     "metadata": {},
     "output_type": "execute_result"
    }
   ],
   "source": [
    "def train_and_predict(estimator, y_train, X_train, X_test):\n",
    "    model = estimator.fit(X_train, y_train)\n",
    "    pred_train = model.predict(X_train)\n",
    "    pred_test = model.predict(X_test)\n",
    "    return model, pred_train, pred_test\n",
    "\n",
    "\n",
    "train_and_predict(LogisticRegression(), y_train_preprocessed, X_train_preprocessed, X_test_preprocessed)"
   ]
  },
  {
   "cell_type": "code",
   "execution_count": 35,
   "metadata": {},
   "outputs": [
    {
     "name": "stdout",
     "output_type": "stream",
     "text": [
      "Train\n",
      "Accuracy: 0.6063668519454269\n",
      "ROC AUC: 0.606366851945427\n",
      "Confusion matrix:\n",
      " [[4817 3099]\n",
      " [3133 4783]]\n",
      "\n",
      "Test\n",
      "Accuracy: 0.5956666666666667\n",
      "ROC AUC: 0.5597567491253612\n",
      "Confusion matrix:\n",
      " [[1602 1037]\n",
      " [ 176  185]]\n"
     ]
    }
   ],
   "source": [
    "# Logistic regression\n",
    "lr = LogisticRegression(max_iter=1e4, random_state=0)\n",
    "lr, lr_pred_train, lr_pred_test = train_and_predict(lr, y_train_preprocessed, X_train_preprocessed, X_test_preprocessed)\n",
    "\n",
    "print('Train')\n",
    "print('Accuracy:', lr.score(X_train_preprocessed, y_train_preprocessed))\n",
    "print('ROC AUC:', roc_auc_score(y_train_preprocessed, lr_pred_train))\n",
    "print('Confusion matrix:\\n', confusion_matrix(y_train_preprocessed, lr_pred_train))\n",
    "\n",
    "print('\\nTest')\n",
    "print('Accuracy:', lr.score(X_test_preprocessed, y_test_preprocessed))\n",
    "print('ROC AUC:', roc_auc_score(y_test_preprocessed, lr_pred_test))\n",
    "print('Confusion matrix:\\n', confusion_matrix(y_test_preprocessed, lr_pred_test))"
   ]
  },
  {
   "cell_type": "code",
   "execution_count": 36,
   "metadata": {},
   "outputs": [
    {
     "name": "stdout",
     "output_type": "stream",
     "text": [
      "0.7711659875109305\n",
      "{'max_depth': 16, 'min_samples_leaf': 2, 'min_samples_split': 2}\n"
     ]
    },
    {
     "data": {
      "text/plain": [
       "DecisionTreeClassifier(max_depth=16, min_samples_leaf=2, random_state=0)"
      ]
     },
     "execution_count": 36,
     "metadata": {},
     "output_type": "execute_result"
    }
   ],
   "source": [
    "# Decision tree grid search\n",
    "dt = DecisionTreeClassifier(random_state=0)\n",
    "params = {'max_depth': range(2, 22, 2), 'min_samples_split': range(2, 22, 2), 'min_samples_leaf': range(2, 22, 2)}\n",
    "gs = GridSearchCV(dt, params, scoring='roc_auc', cv=5, n_jobs=10)\n",
    "gs.fit(X_train_preprocessed, y_train_preprocessed)\n",
    "\n",
    "print(gs.best_score_)\n",
    "print(gs.best_params_)\n",
    "gs.best_estimator_"
   ]
  },
  {
   "cell_type": "code",
   "execution_count": 37,
   "metadata": {},
   "outputs": [
    {
     "name": "stdout",
     "output_type": "stream",
     "text": [
      "Train\n",
      "Score: 0.7355356240525518\n",
      "ROC AUC: 0.7355356240525519\n",
      "Confusion matrix:\n",
      " [[5341 2575]\n",
      " [1612 6304]]\n",
      "\n",
      "Test\n",
      "Score: 0.5973333333333334\n",
      "ROC AUC: 0.5092943163437003\n",
      "Confusion matrix:\n",
      " [[1650  989]\n",
      " [ 219  142]]\n"
     ]
    }
   ],
   "source": [
    "# Decision tree\n",
    "dt = gs.best_estimator_\n",
    "dt, dt_pred_train, dt_pred_test = train_and_predict(dt, y_train_preprocessed, X_train_preprocessed, X_test_preprocessed)\n",
    "\n",
    "print('Train')\n",
    "print('Score:', dt.score(X_train_preprocessed, y_train_preprocessed))\n",
    "print('ROC AUC:', roc_auc_score(y_train_preprocessed, dt_pred_train))\n",
    "print('Confusion matrix:\\n', confusion_matrix(y_train_preprocessed, dt_pred_train))\n",
    "\n",
    "print('\\nTest')\n",
    "print('Score:', dt.score(X_test_preprocessed, y_test_preprocessed))\n",
    "print('ROC AUC:', roc_auc_score(y_test_preprocessed, dt_pred_test))\n",
    "print('Confusion matrix:\\n', confusion_matrix(y_test_preprocessed, dt_pred_test))"
   ]
  },
  {
   "cell_type": "code",
   "execution_count": 38,
   "metadata": {},
   "outputs": [
    {
     "data": {
      "text/html": [
       "<div>\n",
       "<style scoped>\n",
       "    .dataframe tbody tr th:only-of-type {\n",
       "        vertical-align: middle;\n",
       "    }\n",
       "\n",
       "    .dataframe tbody tr th {\n",
       "        vertical-align: top;\n",
       "    }\n",
       "\n",
       "    .dataframe thead th {\n",
       "        text-align: right;\n",
       "    }\n",
       "</style>\n",
       "<table border=\"1\" class=\"dataframe\">\n",
       "  <thead>\n",
       "    <tr style=\"text-align: right;\">\n",
       "      <th></th>\n",
       "      <th>feature</th>\n",
       "      <th>lr_coef</th>\n",
       "      <th>dt_coef</th>\n",
       "    </tr>\n",
       "  </thead>\n",
       "  <tbody>\n",
       "    <tr>\n",
       "      <th>0</th>\n",
       "      <td>email_enc</td>\n",
       "      <td>3.082503</td>\n",
       "      <td>0.218196</td>\n",
       "    </tr>\n",
       "    <tr>\n",
       "      <th>1</th>\n",
       "      <td>creation_enc</td>\n",
       "      <td>3.188237</td>\n",
       "      <td>0.153961</td>\n",
       "    </tr>\n",
       "    <tr>\n",
       "      <th>2</th>\n",
       "      <td>org_enc</td>\n",
       "      <td>3.920009</td>\n",
       "      <td>0.275641</td>\n",
       "    </tr>\n",
       "    <tr>\n",
       "      <th>3</th>\n",
       "      <td>invited</td>\n",
       "      <td>0.025881</td>\n",
       "      <td>0.037737</td>\n",
       "    </tr>\n",
       "    <tr>\n",
       "      <th>4</th>\n",
       "      <td>same_day_use</td>\n",
       "      <td>0.64097</td>\n",
       "      <td>0.09001</td>\n",
       "    </tr>\n",
       "    <tr>\n",
       "      <th>5</th>\n",
       "      <td>opted_in_to_mailing_list</td>\n",
       "      <td>0.02863</td>\n",
       "      <td>0.117463</td>\n",
       "    </tr>\n",
       "    <tr>\n",
       "      <th>6</th>\n",
       "      <td>enabled_for_marketing_drip</td>\n",
       "      <td>-0.030119</td>\n",
       "      <td>0.106993</td>\n",
       "    </tr>\n",
       "  </tbody>\n",
       "</table>\n",
       "</div>"
      ],
      "text/plain": [
       "                      feature   lr_coef   dt_coef\n",
       "0                   email_enc  3.082503  0.218196\n",
       "1                creation_enc  3.188237  0.153961\n",
       "2                     org_enc  3.920009  0.275641\n",
       "3                     invited  0.025881  0.037737\n",
       "4                same_day_use   0.64097   0.09001\n",
       "5    opted_in_to_mailing_list   0.02863  0.117463\n",
       "6  enabled_for_marketing_drip -0.030119  0.106993"
      ]
     },
     "execution_count": 38,
     "metadata": {},
     "output_type": "execute_result"
    }
   ],
   "source": [
    "# Feature coefficients\n",
    "pd.DataFrame(np.array([X_train_preprocessed.columns.values, lr.coef_[0], dt.feature_importances_]).T, \n",
    "             columns=['feature', 'lr_coef', 'dt_coef'])"
   ]
  },
  {
   "cell_type": "markdown",
   "metadata": {},
   "source": [
    "### Modeling 2 - binary feature subset"
   ]
  },
  {
   "cell_type": "code",
   "execution_count": 39,
   "metadata": {},
   "outputs": [
    {
     "data": {
      "text/plain": [
       "((15832, 4), (3000, 4))"
      ]
     },
     "execution_count": 39,
     "metadata": {},
     "output_type": "execute_result"
    }
   ],
   "source": [
    "# Filter for binary features\n",
    "X_train_bin = X_train_preprocessed[['invited', 'same_day_use', 'opted_in_to_mailing_list', 'enabled_for_marketing_drip']].copy()\n",
    "X_test_bin = X_test_preprocessed[['invited', 'same_day_use', 'opted_in_to_mailing_list', 'enabled_for_marketing_drip']].copy()\n",
    "X_train_bin.shape, X_test_bin.shape"
   ]
  },
  {
   "cell_type": "code",
   "execution_count": 40,
   "metadata": {},
   "outputs": [
    {
     "name": "stdout",
     "output_type": "stream",
     "text": [
      "Train\n",
      "Accuracy: 0.5845123799898939\n",
      "ROC AUC: 0.5845123799898939\n",
      "Confusion matrix:\n",
      " [[5227 2689]\n",
      " [3889 4027]]\n",
      "\n",
      "Test\n",
      "Accuracy: 0.6433333333333333\n",
      "ROC AUC: 0.6083707103861846\n",
      "Confusion matrix:\n",
      " [[1727  912]\n",
      " [ 158  203]]\n"
     ]
    }
   ],
   "source": [
    "# Logistic regression\n",
    "lr_bin = LogisticRegression(max_iter=1e4, random_state=0)\n",
    "lr_bin, lr_bin_pred_train, lr_bin_pred_test = train_and_predict(lr_bin, y_train_preprocessed, X_train_bin, X_test_bin)\n",
    "\n",
    "print('Train')\n",
    "print('Accuracy:', lr_bin.score(X_train_bin, y_train_preprocessed))\n",
    "print('ROC AUC:', roc_auc_score(y_train_preprocessed, lr_bin_pred_train))\n",
    "print('Confusion matrix:\\n', confusion_matrix(y_train_preprocessed, lr_bin_pred_train))\n",
    "\n",
    "print('\\nTest')\n",
    "print('Accuracy:', lr_bin.score(X_test_bin, y_test_preprocessed))\n",
    "print('ROC AUC:', roc_auc_score(y_test_preprocessed, lr_bin_pred_test))\n",
    "print('Confusion matrix:\\n', confusion_matrix(y_test_preprocessed, lr_bin_pred_test))"
   ]
  },
  {
   "cell_type": "code",
   "execution_count": 41,
   "metadata": {},
   "outputs": [
    {
     "name": "stdout",
     "output_type": "stream",
     "text": [
      "0.5961204344873499\n",
      "{'max_depth': 4, 'min_samples_leaf': 2, 'min_samples_split': 2}\n"
     ]
    },
    {
     "data": {
      "text/plain": [
       "DecisionTreeClassifier(max_depth=4, min_samples_leaf=2, random_state=0)"
      ]
     },
     "execution_count": 41,
     "metadata": {},
     "output_type": "execute_result"
    }
   ],
   "source": [
    "# Decision tree grid search\n",
    "dt_bin = DecisionTreeClassifier(random_state=0)\n",
    "params_bin = {'max_depth': range(2, 22, 2), 'min_samples_split': range(2, 22, 2), 'min_samples_leaf': range(2, 22, 2)}\n",
    "gs_bin = GridSearchCV(dt_bin, params_bin, scoring='roc_auc', cv=5, n_jobs=10)\n",
    "gs_bin.fit(X_train_bin, y_train_preprocessed)\n",
    "\n",
    "print(gs_bin.best_score_)\n",
    "print(gs_bin.best_params_)\n",
    "gs_bin.best_estimator_"
   ]
  },
  {
   "cell_type": "code",
   "execution_count": 42,
   "metadata": {},
   "outputs": [
    {
     "name": "stdout",
     "output_type": "stream",
     "text": [
      "Train\n",
      "Score: 0.5849545224861041\n",
      "ROC AUC: 0.5849545224861041\n",
      "Confusion matrix:\n",
      " [[5140 2776]\n",
      " [3795 4121]]\n",
      "\n",
      "Test\n",
      "Score: 0.6363333333333333\n",
      "ROC AUC: 0.6079786580789542\n",
      "Confusion matrix:\n",
      " [[1703  936]\n",
      " [ 155  206]]\n"
     ]
    }
   ],
   "source": [
    "# Decision tree\n",
    "dt_bin = gs_bin.best_estimator_\n",
    "dt_bin, dt_bin_pred_train, dt_bin_pred_test = train_and_predict(dt_bin, y_train_preprocessed, X_train_bin, X_test_bin)\n",
    "\n",
    "print('Train')\n",
    "print('Score:', dt_bin.score(X_train_bin, y_train_preprocessed))\n",
    "print('ROC AUC:', roc_auc_score(y_train_preprocessed, dt_bin_pred_train))\n",
    "print('Confusion matrix:\\n', confusion_matrix(y_train_preprocessed, dt_bin_pred_train))\n",
    "\n",
    "print('\\nTest')\n",
    "print('Score:', dt_bin.score(X_test_bin, y_test_preprocessed))\n",
    "print('ROC AUC:', roc_auc_score(y_test_preprocessed, dt_bin_pred_test))\n",
    "print('Confusion matrix:\\n', confusion_matrix(y_test_preprocessed, dt_bin_pred_test))"
   ]
  },
  {
   "cell_type": "code",
   "execution_count": 43,
   "metadata": {},
   "outputs": [
    {
     "data": {
      "text/html": [
       "<div>\n",
       "<style scoped>\n",
       "    .dataframe tbody tr th:only-of-type {\n",
       "        vertical-align: middle;\n",
       "    }\n",
       "\n",
       "    .dataframe tbody tr th {\n",
       "        vertical-align: top;\n",
       "    }\n",
       "\n",
       "    .dataframe thead th {\n",
       "        text-align: right;\n",
       "    }\n",
       "</style>\n",
       "<table border=\"1\" class=\"dataframe\">\n",
       "  <thead>\n",
       "    <tr style=\"text-align: right;\">\n",
       "      <th></th>\n",
       "      <th>feature</th>\n",
       "      <th>lr_coef</th>\n",
       "      <th>dt_coef</th>\n",
       "    </tr>\n",
       "  </thead>\n",
       "  <tbody>\n",
       "    <tr>\n",
       "      <th>0</th>\n",
       "      <td>invited</td>\n",
       "      <td>0.132081</td>\n",
       "      <td>0.036326</td>\n",
       "    </tr>\n",
       "    <tr>\n",
       "      <th>1</th>\n",
       "      <td>same_day_use</td>\n",
       "      <td>0.695032</td>\n",
       "      <td>0.88803</td>\n",
       "    </tr>\n",
       "    <tr>\n",
       "      <th>2</th>\n",
       "      <td>opted_in_to_mailing_list</td>\n",
       "      <td>0.017394</td>\n",
       "      <td>0.039981</td>\n",
       "    </tr>\n",
       "    <tr>\n",
       "      <th>3</th>\n",
       "      <td>enabled_for_marketing_drip</td>\n",
       "      <td>-0.014331</td>\n",
       "      <td>0.035664</td>\n",
       "    </tr>\n",
       "  </tbody>\n",
       "</table>\n",
       "</div>"
      ],
      "text/plain": [
       "                      feature   lr_coef   dt_coef\n",
       "0                     invited  0.132081  0.036326\n",
       "1                same_day_use  0.695032   0.88803\n",
       "2    opted_in_to_mailing_list  0.017394  0.039981\n",
       "3  enabled_for_marketing_drip -0.014331  0.035664"
      ]
     },
     "execution_count": 43,
     "metadata": {},
     "output_type": "execute_result"
    }
   ],
   "source": [
    "# Feature coefficients\n",
    "pd.DataFrame(np.array([X_train_bin.columns.values, lr_bin.coef_[0], dt_bin.feature_importances_]).T, \n",
    "             columns=['feature', 'lr_coef', 'dt_coef'])"
   ]
  },
  {
   "cell_type": "markdown",
   "metadata": {},
   "source": [
    "### Modeling 3 - encoded feature subset"
   ]
  },
  {
   "cell_type": "code",
   "execution_count": 45,
   "metadata": {},
   "outputs": [
    {
     "data": {
      "text/plain": [
       "((15832, 3), (3000, 3))"
      ]
     },
     "execution_count": 45,
     "metadata": {},
     "output_type": "execute_result"
    }
   ],
   "source": [
    "# Filter for encoded features\n",
    "X_train_enc = X_train_preprocessed[['email_enc', 'creation_enc', 'org_enc']].copy()\n",
    "X_test_enc = X_test_preprocessed[['email_enc', 'creation_enc', 'org_enc']].copy()\n",
    "X_train_enc.shape, X_test_enc.shape"
   ]
  },
  {
   "cell_type": "code",
   "execution_count": null,
   "metadata": {},
   "outputs": [],
   "source": [
    "# Logistic regression\n",
    "lr_enc = LogisticRegression(max_iter=1e4, random_state=0)\n",
    "lr_enc.fit(X_train_enc, y_train_resampled)\n",
    "lr_enc_pred_train = lr_enc.predict(X_train_enc)\n",
    "lr_enc_pred_test = lr_enc.predict(X_test_enc)\n",
    "\n",
    "print('Train')\n",
    "print('Accuracy:', lr_enc.score(X_train_enc, y_train_resampled))\n",
    "print('ROC AUC:', roc_auc_score(y_train_resampled, lr_enc_pred_train))\n",
    "print('Confusion matrix:\\n', confusion_matrix(y_train_resampled, lr_enc_pred_train))\n",
    "\n",
    "print('\\nTest')\n",
    "print('Accuracy:', lr_enc.score(X_test_enc, y_test))\n",
    "print('ROC AUC:', roc_auc_score(y_test, lr_enc_pred_test))\n",
    "print('Confusion matrix:\\n', confusion_matrix(y_test, lr_enc_pred_test))"
   ]
  },
  {
   "cell_type": "code",
   "execution_count": null,
   "metadata": {},
   "outputs": [],
   "source": [
    "# Decision tree grid search\n",
    "dt_enc = DecisionTreeClassifier(random_state=0)\n",
    "params_enc = {'max_depth': range(2, 22, 2), 'min_samples_split': range(2, 22, 2), 'min_samples_leaf': range(2, 22, 2)}\n",
    "gs_enc = GridSearchCV(dt_enc, params_enc, scoring='roc_auc', cv=5, n_jobs=10)\n",
    "gs_enc.fit(X_train_enc, y_train_resampled)\n",
    "\n",
    "print(gs_enc.best_score_)\n",
    "print(gs_enc.best_params_)\n",
    "gs_enc.best_estimator_"
   ]
  },
  {
   "cell_type": "code",
   "execution_count": null,
   "metadata": {},
   "outputs": [],
   "source": [
    "# Decision tree\n",
    "dt_enc = gs_enc.best_estimator_\n",
    "dt_enc.fit(X_train_enc, y_train_resampled)\n",
    "dt_enc_pred_train = dt_enc.predict(X_train_enc)\n",
    "dt_enc_pred_test = dt_enc.predict(X_test_enc)\n",
    "\n",
    "print('Train')\n",
    "print('Score:', dt_enc.score(X_train_enc, y_train_resampled))\n",
    "print('ROC AUC:', roc_auc_score(y_train_resampled, dt_enc_pred_train))\n",
    "print('Confusion matrix:\\n', confusion_matrix(y_train_resampled, dt_enc_pred_train))\n",
    "\n",
    "print('\\nTest')\n",
    "print('Score:', dt_enc.score(X_test_enc, y_test))\n",
    "print('ROC AUC:', roc_auc_score(y_test, dt_enc_pred_test))\n",
    "print('Confusion matrix:\\n', confusion_matrix(y_test, dt_enc_pred_test))"
   ]
  },
  {
   "cell_type": "code",
   "execution_count": null,
   "metadata": {},
   "outputs": [],
   "source": [
    "# Feature coefficients\n",
    "pd.DataFrame(np.array([X_train_enc.columns.values, lr_enc.coef_[0], dt_enc.feature_importances_]).T, \n",
    "             columns=['feature', 'lr_coef', 'dt_coef'])"
   ]
  }
 ],
 "metadata": {
  "kernelspec": {
   "display_name": "Python 3 (ipykernel)",
   "language": "python",
   "name": "python3"
  },
  "language_info": {
   "codemirror_mode": {
    "name": "ipython",
    "version": 3
   },
   "file_extension": ".py",
   "mimetype": "text/x-python",
   "name": "python",
   "nbconvert_exporter": "python",
   "pygments_lexer": "ipython3",
   "version": "3.9.7"
  }
 },
 "nbformat": 4,
 "nbformat_minor": 4
}
