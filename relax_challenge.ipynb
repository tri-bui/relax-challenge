{
 "cells": [
  {
   "cell_type": "markdown",
   "metadata": {},
   "source": [
    "# Relax Data Challenege"
   ]
  },
  {
   "cell_type": "markdown",
   "metadata": {},
   "source": [
    "### Dependencies & data"
   ]
  },
  {
   "cell_type": "code",
   "execution_count": 1,
   "metadata": {},
   "outputs": [],
   "source": [
    "# Dependencies\n",
    "import numpy as np\n",
    "import pandas as pd\n",
    "import matplotlib.pyplot as plt\n",
    "import seaborn as sns\n",
    "from sklearn.model_selection import train_test_split, GridSearchCV, cross_val_score\n",
    "from sklearn.metrics import roc_auc_score, confusion_matrix\n",
    "from sklearn.linear_model import LogisticRegression\n",
    "from sklearn.tree import DecisionTreeClassifier\n",
    "from sklearn.ensemble import RandomForestClassifier\n",
    "\n",
    "sns.set()\n",
    "%matplotlib inline"
   ]
  },
  {
   "cell_type": "code",
   "execution_count": 2,
   "metadata": {},
   "outputs": [
    {
     "name": "stdout",
     "output_type": "stream",
     "text": [
      "<class 'pandas.core.frame.DataFrame'>\n",
      "RangeIndex: 207917 entries, 0 to 207916\n",
      "Data columns (total 3 columns):\n",
      " #   Column      Non-Null Count   Dtype         \n",
      "---  ------      --------------   -----         \n",
      " 0   time_stamp  207917 non-null  datetime64[ns]\n",
      " 1   user_id     207917 non-null  int64         \n",
      " 2   visited     207917 non-null  int64         \n",
      "dtypes: datetime64[ns](1), int64(2)\n",
      "memory usage: 4.8 MB\n",
      "None\n"
     ]
    },
    {
     "data": {
      "text/html": [
       "<div>\n",
       "<style scoped>\n",
       "    .dataframe tbody tr th:only-of-type {\n",
       "        vertical-align: middle;\n",
       "    }\n",
       "\n",
       "    .dataframe tbody tr th {\n",
       "        vertical-align: top;\n",
       "    }\n",
       "\n",
       "    .dataframe thead th {\n",
       "        text-align: right;\n",
       "    }\n",
       "</style>\n",
       "<table border=\"1\" class=\"dataframe\">\n",
       "  <thead>\n",
       "    <tr style=\"text-align: right;\">\n",
       "      <th></th>\n",
       "      <th>time_stamp</th>\n",
       "      <th>user_id</th>\n",
       "      <th>visited</th>\n",
       "    </tr>\n",
       "  </thead>\n",
       "  <tbody>\n",
       "    <tr>\n",
       "      <th>0</th>\n",
       "      <td>2014-04-22 03:53:30</td>\n",
       "      <td>1</td>\n",
       "      <td>1</td>\n",
       "    </tr>\n",
       "    <tr>\n",
       "      <th>1</th>\n",
       "      <td>2013-11-15 03:45:04</td>\n",
       "      <td>2</td>\n",
       "      <td>1</td>\n",
       "    </tr>\n",
       "  </tbody>\n",
       "</table>\n",
       "</div>"
      ],
      "text/plain": [
       "           time_stamp  user_id  visited\n",
       "0 2014-04-22 03:53:30        1        1\n",
       "1 2013-11-15 03:45:04        2        1"
      ]
     },
     "execution_count": 2,
     "metadata": {},
     "output_type": "execute_result"
    }
   ],
   "source": [
    "# Usage data\n",
    "usage_df = pd.read_csv('takehome_user_engagement.csv', parse_dates=['time_stamp'])\n",
    "print(usage_df.info())\n",
    "usage_df.head(2)"
   ]
  },
  {
   "cell_type": "code",
   "execution_count": 3,
   "metadata": {},
   "outputs": [
    {
     "name": "stdout",
     "output_type": "stream",
     "text": [
      "<class 'pandas.core.frame.DataFrame'>\n",
      "RangeIndex: 12000 entries, 0 to 11999\n",
      "Data columns (total 10 columns):\n",
      " #   Column                      Non-Null Count  Dtype         \n",
      "---  ------                      --------------  -----         \n",
      " 0   object_id                   12000 non-null  int64         \n",
      " 1   creation_time               12000 non-null  datetime64[ns]\n",
      " 2   name                        12000 non-null  object        \n",
      " 3   email                       12000 non-null  object        \n",
      " 4   creation_source             12000 non-null  object        \n",
      " 5   last_session_creation_time  8823 non-null   float64       \n",
      " 6   opted_in_to_mailing_list    12000 non-null  int64         \n",
      " 7   enabled_for_marketing_drip  12000 non-null  int64         \n",
      " 8   org_id                      12000 non-null  int64         \n",
      " 9   invited_by_user_id          6417 non-null   float64       \n",
      "dtypes: datetime64[ns](1), float64(2), int64(4), object(3)\n",
      "memory usage: 937.6+ KB\n",
      "None\n"
     ]
    },
    {
     "data": {
      "text/html": [
       "<div>\n",
       "<style scoped>\n",
       "    .dataframe tbody tr th:only-of-type {\n",
       "        vertical-align: middle;\n",
       "    }\n",
       "\n",
       "    .dataframe tbody tr th {\n",
       "        vertical-align: top;\n",
       "    }\n",
       "\n",
       "    .dataframe thead th {\n",
       "        text-align: right;\n",
       "    }\n",
       "</style>\n",
       "<table border=\"1\" class=\"dataframe\">\n",
       "  <thead>\n",
       "    <tr style=\"text-align: right;\">\n",
       "      <th></th>\n",
       "      <th>object_id</th>\n",
       "      <th>creation_time</th>\n",
       "      <th>name</th>\n",
       "      <th>email</th>\n",
       "      <th>creation_source</th>\n",
       "      <th>last_session_creation_time</th>\n",
       "      <th>opted_in_to_mailing_list</th>\n",
       "      <th>enabled_for_marketing_drip</th>\n",
       "      <th>org_id</th>\n",
       "      <th>invited_by_user_id</th>\n",
       "    </tr>\n",
       "  </thead>\n",
       "  <tbody>\n",
       "    <tr>\n",
       "      <th>0</th>\n",
       "      <td>1</td>\n",
       "      <td>2014-04-22 03:53:30</td>\n",
       "      <td>Clausen August</td>\n",
       "      <td>AugustCClausen@yahoo.com</td>\n",
       "      <td>GUEST_INVITE</td>\n",
       "      <td>1.398139e+09</td>\n",
       "      <td>1</td>\n",
       "      <td>0</td>\n",
       "      <td>11</td>\n",
       "      <td>10803.0</td>\n",
       "    </tr>\n",
       "    <tr>\n",
       "      <th>1</th>\n",
       "      <td>2</td>\n",
       "      <td>2013-11-15 03:45:04</td>\n",
       "      <td>Poole Matthew</td>\n",
       "      <td>MatthewPoole@gustr.com</td>\n",
       "      <td>ORG_INVITE</td>\n",
       "      <td>1.396238e+09</td>\n",
       "      <td>0</td>\n",
       "      <td>0</td>\n",
       "      <td>1</td>\n",
       "      <td>316.0</td>\n",
       "    </tr>\n",
       "  </tbody>\n",
       "</table>\n",
       "</div>"
      ],
      "text/plain": [
       "   object_id       creation_time            name                     email  \\\n",
       "0          1 2014-04-22 03:53:30  Clausen August  AugustCClausen@yahoo.com   \n",
       "1          2 2013-11-15 03:45:04   Poole Matthew    MatthewPoole@gustr.com   \n",
       "\n",
       "  creation_source  last_session_creation_time  opted_in_to_mailing_list  \\\n",
       "0    GUEST_INVITE                1.398139e+09                         1   \n",
       "1      ORG_INVITE                1.396238e+09                         0   \n",
       "\n",
       "   enabled_for_marketing_drip  org_id  invited_by_user_id  \n",
       "0                           0      11             10803.0  \n",
       "1                           0       1               316.0  "
      ]
     },
     "execution_count": 3,
     "metadata": {},
     "output_type": "execute_result"
    }
   ],
   "source": [
    "# User data\n",
    "user_df = pd.read_csv('takehome_users.csv', parse_dates=['creation_time'], encoding='latin-1')\n",
    "print(user_df.info())\n",
    "user_df.head(2)"
   ]
  },
  {
   "cell_type": "code",
   "execution_count": 4,
   "metadata": {},
   "outputs": [
    {
     "data": {
      "text/html": [
       "<div>\n",
       "<style scoped>\n",
       "    .dataframe tbody tr th:only-of-type {\n",
       "        vertical-align: middle;\n",
       "    }\n",
       "\n",
       "    .dataframe tbody tr th {\n",
       "        vertical-align: top;\n",
       "    }\n",
       "\n",
       "    .dataframe thead th {\n",
       "        text-align: right;\n",
       "    }\n",
       "</style>\n",
       "<table border=\"1\" class=\"dataframe\">\n",
       "  <thead>\n",
       "    <tr style=\"text-align: right;\">\n",
       "      <th></th>\n",
       "      <th>user_id</th>\n",
       "      <th>creation_time</th>\n",
       "      <th>name</th>\n",
       "      <th>email</th>\n",
       "      <th>creation_source</th>\n",
       "      <th>last_session_creation_time</th>\n",
       "      <th>opted_in_to_mailing_list</th>\n",
       "      <th>enabled_for_marketing_drip</th>\n",
       "      <th>org_id</th>\n",
       "      <th>invited_by_user_id</th>\n",
       "    </tr>\n",
       "  </thead>\n",
       "  <tbody>\n",
       "    <tr>\n",
       "      <th>0</th>\n",
       "      <td>1</td>\n",
       "      <td>2014-04-22 03:53:30</td>\n",
       "      <td>Clausen August</td>\n",
       "      <td>AugustCClausen@yahoo.com</td>\n",
       "      <td>GUEST_INVITE</td>\n",
       "      <td>2014-04-22 03:53:30</td>\n",
       "      <td>1</td>\n",
       "      <td>0</td>\n",
       "      <td>11</td>\n",
       "      <td>10803.0</td>\n",
       "    </tr>\n",
       "    <tr>\n",
       "      <th>1</th>\n",
       "      <td>2</td>\n",
       "      <td>2013-11-15 03:45:04</td>\n",
       "      <td>Poole Matthew</td>\n",
       "      <td>MatthewPoole@gustr.com</td>\n",
       "      <td>ORG_INVITE</td>\n",
       "      <td>2014-03-31 03:45:04</td>\n",
       "      <td>0</td>\n",
       "      <td>0</td>\n",
       "      <td>1</td>\n",
       "      <td>316.0</td>\n",
       "    </tr>\n",
       "  </tbody>\n",
       "</table>\n",
       "</div>"
      ],
      "text/plain": [
       "   user_id       creation_time            name                     email  \\\n",
       "0        1 2014-04-22 03:53:30  Clausen August  AugustCClausen@yahoo.com   \n",
       "1        2 2013-11-15 03:45:04   Poole Matthew    MatthewPoole@gustr.com   \n",
       "\n",
       "  creation_source last_session_creation_time  opted_in_to_mailing_list  \\\n",
       "0    GUEST_INVITE        2014-04-22 03:53:30                         1   \n",
       "1      ORG_INVITE        2014-03-31 03:45:04                         0   \n",
       "\n",
       "   enabled_for_marketing_drip  org_id  invited_by_user_id  \n",
       "0                           0      11             10803.0  \n",
       "1                           0       1               316.0  "
      ]
     },
     "execution_count": 4,
     "metadata": {},
     "output_type": "execute_result"
    }
   ],
   "source": [
    "# Rename `object_id` to `user_id`\n",
    "user_df.rename(columns={'object_id': 'user_id'}, inplace=True)\n",
    "\n",
    "# Convert `last_session_creation_time` to datetime\n",
    "user_df['last_session_creation_time'] = pd.to_datetime(user_df.last_session_creation_time, unit='s')\n",
    "user_df.head(2)"
   ]
  },
  {
   "cell_type": "markdown",
   "metadata": {},
   "source": [
    "### Label adopted users and count usage for each user"
   ]
  },
  {
   "cell_type": "code",
   "execution_count": 5,
   "metadata": {},
   "outputs": [
    {
     "name": "stdout",
     "output_type": "stream",
     "text": [
      "1445\n"
     ]
    },
    {
     "data": {
      "text/html": [
       "<div>\n",
       "<style scoped>\n",
       "    .dataframe tbody tr th:only-of-type {\n",
       "        vertical-align: middle;\n",
       "    }\n",
       "\n",
       "    .dataframe tbody tr th {\n",
       "        vertical-align: top;\n",
       "    }\n",
       "\n",
       "    .dataframe thead th {\n",
       "        text-align: right;\n",
       "    }\n",
       "</style>\n",
       "<table border=\"1\" class=\"dataframe\">\n",
       "  <thead>\n",
       "    <tr style=\"text-align: right;\">\n",
       "      <th></th>\n",
       "      <th></th>\n",
       "      <th>visited</th>\n",
       "    </tr>\n",
       "    <tr>\n",
       "      <th>user_id</th>\n",
       "      <th>time_stamp</th>\n",
       "      <th></th>\n",
       "    </tr>\n",
       "  </thead>\n",
       "  <tbody>\n",
       "    <tr>\n",
       "      <th>1</th>\n",
       "      <th>2014-04-17</th>\n",
       "      <td>1</td>\n",
       "    </tr>\n",
       "    <tr>\n",
       "      <th>2</th>\n",
       "      <th>2013-11-14</th>\n",
       "      <td>1</td>\n",
       "    </tr>\n",
       "  </tbody>\n",
       "</table>\n",
       "</div>"
      ],
      "text/plain": [
       "                    visited\n",
       "user_id time_stamp         \n",
       "1       2014-04-17        1\n",
       "2       2013-11-14        1"
      ]
     },
     "execution_count": 5,
     "metadata": {},
     "output_type": "execute_result"
    }
   ],
   "source": [
    "# Group visits by each user's weekly visits\n",
    "weekly_usage_df = usage_df.groupby(['user_id', pd.Grouper(key='time_stamp', freq='7d')]).count()\n",
    "\n",
    "# Filter for users who visited at least 3 times during any week\n",
    "adopted_usage_df = weekly_usage_df[weekly_usage_df['visited'] >= 3]\n",
    "adopted_users = adopted_usage_df.index.get_level_values(0).unique().values\n",
    "\n",
    "print(len(adopted_users))\n",
    "weekly_usage_df.head(2)"
   ]
  },
  {
   "cell_type": "code",
   "execution_count": 6,
   "metadata": {},
   "outputs": [
    {
     "data": {
      "text/html": [
       "<div>\n",
       "<style scoped>\n",
       "    .dataframe tbody tr th:only-of-type {\n",
       "        vertical-align: middle;\n",
       "    }\n",
       "\n",
       "    .dataframe tbody tr th {\n",
       "        vertical-align: top;\n",
       "    }\n",
       "\n",
       "    .dataframe thead th {\n",
       "        text-align: right;\n",
       "    }\n",
       "</style>\n",
       "<table border=\"1\" class=\"dataframe\">\n",
       "  <thead>\n",
       "    <tr style=\"text-align: right;\">\n",
       "      <th></th>\n",
       "      <th>user_id</th>\n",
       "      <th>creation_time</th>\n",
       "      <th>name</th>\n",
       "      <th>email</th>\n",
       "      <th>creation_source</th>\n",
       "      <th>last_session_creation_time</th>\n",
       "      <th>opted_in_to_mailing_list</th>\n",
       "      <th>enabled_for_marketing_drip</th>\n",
       "      <th>org_id</th>\n",
       "      <th>invited_by_user_id</th>\n",
       "      <th>adopted_user</th>\n",
       "    </tr>\n",
       "  </thead>\n",
       "  <tbody>\n",
       "    <tr>\n",
       "      <th>0</th>\n",
       "      <td>1</td>\n",
       "      <td>2014-04-22 03:53:30</td>\n",
       "      <td>Clausen August</td>\n",
       "      <td>AugustCClausen@yahoo.com</td>\n",
       "      <td>GUEST_INVITE</td>\n",
       "      <td>2014-04-22 03:53:30</td>\n",
       "      <td>1</td>\n",
       "      <td>0</td>\n",
       "      <td>11</td>\n",
       "      <td>10803.0</td>\n",
       "      <td>0</td>\n",
       "    </tr>\n",
       "    <tr>\n",
       "      <th>1</th>\n",
       "      <td>2</td>\n",
       "      <td>2013-11-15 03:45:04</td>\n",
       "      <td>Poole Matthew</td>\n",
       "      <td>MatthewPoole@gustr.com</td>\n",
       "      <td>ORG_INVITE</td>\n",
       "      <td>2014-03-31 03:45:04</td>\n",
       "      <td>0</td>\n",
       "      <td>0</td>\n",
       "      <td>1</td>\n",
       "      <td>316.0</td>\n",
       "      <td>0</td>\n",
       "    </tr>\n",
       "  </tbody>\n",
       "</table>\n",
       "</div>"
      ],
      "text/plain": [
       "   user_id       creation_time            name                     email  \\\n",
       "0        1 2014-04-22 03:53:30  Clausen August  AugustCClausen@yahoo.com   \n",
       "1        2 2013-11-15 03:45:04   Poole Matthew    MatthewPoole@gustr.com   \n",
       "\n",
       "  creation_source last_session_creation_time  opted_in_to_mailing_list  \\\n",
       "0    GUEST_INVITE        2014-04-22 03:53:30                         1   \n",
       "1      ORG_INVITE        2014-03-31 03:45:04                         0   \n",
       "\n",
       "   enabled_for_marketing_drip  org_id  invited_by_user_id  adopted_user  \n",
       "0                           0      11             10803.0             0  \n",
       "1                           0       1               316.0             0  "
      ]
     },
     "execution_count": 6,
     "metadata": {},
     "output_type": "execute_result"
    }
   ],
   "source": [
    "# Create label for adopted users\n",
    "user_df['adopted_user'] = np.where(user_df['user_id'].isin(adopted_users), 1, 0)\n",
    "assert len(adopted_users) == user_df['adopted_user'].sum() # confirm equal length\n",
    "user_df.head(2)"
   ]
  },
  {
   "cell_type": "code",
   "execution_count": 7,
   "metadata": {},
   "outputs": [
    {
     "data": {
      "text/html": [
       "<div>\n",
       "<style scoped>\n",
       "    .dataframe tbody tr th:only-of-type {\n",
       "        vertical-align: middle;\n",
       "    }\n",
       "\n",
       "    .dataframe tbody tr th {\n",
       "        vertical-align: top;\n",
       "    }\n",
       "\n",
       "    .dataframe thead th {\n",
       "        text-align: right;\n",
       "    }\n",
       "</style>\n",
       "<table border=\"1\" class=\"dataframe\">\n",
       "  <thead>\n",
       "    <tr style=\"text-align: right;\">\n",
       "      <th></th>\n",
       "      <th>user_id</th>\n",
       "      <th>creation_time</th>\n",
       "      <th>name</th>\n",
       "      <th>email</th>\n",
       "      <th>creation_source</th>\n",
       "      <th>last_session_creation_time</th>\n",
       "      <th>opted_in_to_mailing_list</th>\n",
       "      <th>enabled_for_marketing_drip</th>\n",
       "      <th>org_id</th>\n",
       "      <th>invited_by_user_id</th>\n",
       "      <th>adopted_user</th>\n",
       "      <th>visited</th>\n",
       "    </tr>\n",
       "  </thead>\n",
       "  <tbody>\n",
       "    <tr>\n",
       "      <th>0</th>\n",
       "      <td>1</td>\n",
       "      <td>2014-04-22 03:53:30</td>\n",
       "      <td>Clausen August</td>\n",
       "      <td>AugustCClausen@yahoo.com</td>\n",
       "      <td>GUEST_INVITE</td>\n",
       "      <td>2014-04-22 03:53:30</td>\n",
       "      <td>1</td>\n",
       "      <td>0</td>\n",
       "      <td>11</td>\n",
       "      <td>10803.0</td>\n",
       "      <td>0</td>\n",
       "      <td>1</td>\n",
       "    </tr>\n",
       "    <tr>\n",
       "      <th>1</th>\n",
       "      <td>2</td>\n",
       "      <td>2013-11-15 03:45:04</td>\n",
       "      <td>Poole Matthew</td>\n",
       "      <td>MatthewPoole@gustr.com</td>\n",
       "      <td>ORG_INVITE</td>\n",
       "      <td>2014-03-31 03:45:04</td>\n",
       "      <td>0</td>\n",
       "      <td>0</td>\n",
       "      <td>1</td>\n",
       "      <td>316.0</td>\n",
       "      <td>0</td>\n",
       "      <td>14</td>\n",
       "    </tr>\n",
       "  </tbody>\n",
       "</table>\n",
       "</div>"
      ],
      "text/plain": [
       "   user_id       creation_time            name                     email  \\\n",
       "0        1 2014-04-22 03:53:30  Clausen August  AugustCClausen@yahoo.com   \n",
       "1        2 2013-11-15 03:45:04   Poole Matthew    MatthewPoole@gustr.com   \n",
       "\n",
       "  creation_source last_session_creation_time  opted_in_to_mailing_list  \\\n",
       "0    GUEST_INVITE        2014-04-22 03:53:30                         1   \n",
       "1      ORG_INVITE        2014-03-31 03:45:04                         0   \n",
       "\n",
       "   enabled_for_marketing_drip  org_id  invited_by_user_id  adopted_user  \\\n",
       "0                           0      11             10803.0             0   \n",
       "1                           0       1               316.0             0   \n",
       "\n",
       "   visited  \n",
       "0        1  \n",
       "1       14  "
      ]
     },
     "execution_count": 7,
     "metadata": {},
     "output_type": "execute_result"
    }
   ],
   "source": [
    "# Create a feature for the number of times each user logged in\n",
    "usage_count_df = usage_df.groupby('user_id', as_index=False).sum()\n",
    "user_df = user_df.merge(usage_count_df, on='user_id', how='left')\n",
    "user_df['visited'] = user_df['visited'].fillna(0).astype(int)\n",
    "user_df.head(2)"
   ]
  },
  {
   "cell_type": "markdown",
   "metadata": {},
   "source": [
    "### Datetime EDA"
   ]
  },
  {
   "cell_type": "code",
   "execution_count": 8,
   "metadata": {},
   "outputs": [
    {
     "data": {
      "text/html": [
       "<div>\n",
       "<style scoped>\n",
       "    .dataframe tbody tr th:only-of-type {\n",
       "        vertical-align: middle;\n",
       "    }\n",
       "\n",
       "    .dataframe tbody tr th {\n",
       "        vertical-align: top;\n",
       "    }\n",
       "\n",
       "    .dataframe thead th {\n",
       "        text-align: right;\n",
       "    }\n",
       "</style>\n",
       "<table border=\"1\" class=\"dataframe\">\n",
       "  <thead>\n",
       "    <tr style=\"text-align: right;\">\n",
       "      <th></th>\n",
       "      <th>user_id</th>\n",
       "      <th>creation_time</th>\n",
       "      <th>name</th>\n",
       "      <th>email</th>\n",
       "      <th>creation_source</th>\n",
       "      <th>last_session_creation_time</th>\n",
       "      <th>opted_in_to_mailing_list</th>\n",
       "      <th>enabled_for_marketing_drip</th>\n",
       "      <th>org_id</th>\n",
       "      <th>invited_by_user_id</th>\n",
       "      <th>adopted_user</th>\n",
       "      <th>visited</th>\n",
       "      <th>first_use</th>\n",
       "      <th>days_to_first_use</th>\n",
       "    </tr>\n",
       "  </thead>\n",
       "  <tbody>\n",
       "    <tr>\n",
       "      <th>0</th>\n",
       "      <td>1</td>\n",
       "      <td>2014-04-22 03:53:30</td>\n",
       "      <td>Clausen August</td>\n",
       "      <td>AugustCClausen@yahoo.com</td>\n",
       "      <td>GUEST_INVITE</td>\n",
       "      <td>2014-04-22 03:53:30</td>\n",
       "      <td>1</td>\n",
       "      <td>0</td>\n",
       "      <td>11</td>\n",
       "      <td>10803.0</td>\n",
       "      <td>0</td>\n",
       "      <td>1</td>\n",
       "      <td>2014-04-22 03:53:30</td>\n",
       "      <td>0.0</td>\n",
       "    </tr>\n",
       "    <tr>\n",
       "      <th>1</th>\n",
       "      <td>2</td>\n",
       "      <td>2013-11-15 03:45:04</td>\n",
       "      <td>Poole Matthew</td>\n",
       "      <td>MatthewPoole@gustr.com</td>\n",
       "      <td>ORG_INVITE</td>\n",
       "      <td>2014-03-31 03:45:04</td>\n",
       "      <td>0</td>\n",
       "      <td>0</td>\n",
       "      <td>1</td>\n",
       "      <td>316.0</td>\n",
       "      <td>0</td>\n",
       "      <td>14</td>\n",
       "      <td>2013-11-15 03:45:04</td>\n",
       "      <td>0.0</td>\n",
       "    </tr>\n",
       "  </tbody>\n",
       "</table>\n",
       "</div>"
      ],
      "text/plain": [
       "   user_id       creation_time            name                     email  \\\n",
       "0        1 2014-04-22 03:53:30  Clausen August  AugustCClausen@yahoo.com   \n",
       "1        2 2013-11-15 03:45:04   Poole Matthew    MatthewPoole@gustr.com   \n",
       "\n",
       "  creation_source last_session_creation_time  opted_in_to_mailing_list  \\\n",
       "0    GUEST_INVITE        2014-04-22 03:53:30                         1   \n",
       "1      ORG_INVITE        2014-03-31 03:45:04                         0   \n",
       "\n",
       "   enabled_for_marketing_drip  org_id  invited_by_user_id  adopted_user  \\\n",
       "0                           0      11             10803.0             0   \n",
       "1                           0       1               316.0             0   \n",
       "\n",
       "   visited           first_use  days_to_first_use  \n",
       "0        1 2014-04-22 03:53:30                0.0  \n",
       "1       14 2013-11-15 03:45:04                0.0  "
      ]
     },
     "execution_count": 8,
     "metadata": {},
     "output_type": "execute_result"
    }
   ],
   "source": [
    "# Create a feature for each user's first day of use\n",
    "first_use = dict(usage_df.groupby('user_id')['time_stamp'].min())\n",
    "user_df['first_use'] = user_df['user_id'].map(first_use)\n",
    "\n",
    "# Create a feature for the number of days between account creation and first use\n",
    "user_df['days_to_first_use'] = (user_df['first_use'] - user_df['creation_time']).dt.days\n",
    "user_df['days_to_first_use'].fillna(999, inplace=True)\n",
    "user_df.head(2)"
   ]
  },
  {
   "cell_type": "code",
   "execution_count": 9,
   "metadata": {},
   "outputs": [
    {
     "name": "stdout",
     "output_type": "stream",
     "text": [
      "17.22% of users who login within the same DAY as creating an account are adopted users.\n",
      "16.42% of users who login within the same WEEK as creating an account are adopted users.\n",
      "16.38% of users who login within the same MONTH as creating an account are adopted users.\n"
     ]
    }
   ],
   "source": [
    "# User adoption rate of users who login within the first n days\n",
    "adoption_1d_df = user_df[user_df['days_to_first_use'] < 1]['adopted_user']\n",
    "adoption_7d_df = user_df[user_df['days_to_first_use'] < 7]['adopted_user']\n",
    "adoption_30d_df = user_df[user_df['days_to_first_use'] < 30]['adopted_user']\n",
    "print(f'{adoption_1d_df.mean() * 100:.2f}% of users who login within the same DAY as creating an account are adopted users.')\n",
    "print(f'{adoption_7d_df.mean() * 100:.2f}% of users who login within the same WEEK as creating an account are adopted users.')\n",
    "print(f'{adoption_30d_df.mean() * 100:.2f}% of users who login within the same MONTH as creating an account are adopted users.')"
   ]
  },
  {
   "cell_type": "code",
   "execution_count": 10,
   "metadata": {},
   "outputs": [
    {
     "data": {
      "text/html": [
       "<div>\n",
       "<style scoped>\n",
       "    .dataframe tbody tr th:only-of-type {\n",
       "        vertical-align: middle;\n",
       "    }\n",
       "\n",
       "    .dataframe tbody tr th {\n",
       "        vertical-align: top;\n",
       "    }\n",
       "\n",
       "    .dataframe thead th {\n",
       "        text-align: right;\n",
       "    }\n",
       "</style>\n",
       "<table border=\"1\" class=\"dataframe\">\n",
       "  <thead>\n",
       "    <tr style=\"text-align: right;\">\n",
       "      <th></th>\n",
       "      <th>creation_month</th>\n",
       "      <th>adoption_rate</th>\n",
       "    </tr>\n",
       "  </thead>\n",
       "  <tbody>\n",
       "    <tr>\n",
       "      <th>0</th>\n",
       "      <td>2012-05</td>\n",
       "      <td>0.062500</td>\n",
       "    </tr>\n",
       "    <tr>\n",
       "      <th>1</th>\n",
       "      <td>2012-06</td>\n",
       "      <td>0.154613</td>\n",
       "    </tr>\n",
       "    <tr>\n",
       "      <th>2</th>\n",
       "      <td>2012-07</td>\n",
       "      <td>0.144703</td>\n",
       "    </tr>\n",
       "    <tr>\n",
       "      <th>3</th>\n",
       "      <td>2012-08</td>\n",
       "      <td>0.169863</td>\n",
       "    </tr>\n",
       "    <tr>\n",
       "      <th>4</th>\n",
       "      <td>2012-09</td>\n",
       "      <td>0.156479</td>\n",
       "    </tr>\n",
       "    <tr>\n",
       "      <th>5</th>\n",
       "      <td>2012-10</td>\n",
       "      <td>0.159601</td>\n",
       "    </tr>\n",
       "    <tr>\n",
       "      <th>6</th>\n",
       "      <td>2012-11</td>\n",
       "      <td>0.150246</td>\n",
       "    </tr>\n",
       "    <tr>\n",
       "      <th>7</th>\n",
       "      <td>2012-12</td>\n",
       "      <td>0.135922</td>\n",
       "    </tr>\n",
       "    <tr>\n",
       "      <th>8</th>\n",
       "      <td>2013-01</td>\n",
       "      <td>0.116331</td>\n",
       "    </tr>\n",
       "    <tr>\n",
       "      <th>9</th>\n",
       "      <td>2013-02</td>\n",
       "      <td>0.159705</td>\n",
       "    </tr>\n",
       "    <tr>\n",
       "      <th>10</th>\n",
       "      <td>2013-03</td>\n",
       "      <td>0.131183</td>\n",
       "    </tr>\n",
       "    <tr>\n",
       "      <th>11</th>\n",
       "      <td>2013-04</td>\n",
       "      <td>0.143508</td>\n",
       "    </tr>\n",
       "    <tr>\n",
       "      <th>12</th>\n",
       "      <td>2013-05</td>\n",
       "      <td>0.123110</td>\n",
       "    </tr>\n",
       "    <tr>\n",
       "      <th>13</th>\n",
       "      <td>2013-06</td>\n",
       "      <td>0.163636</td>\n",
       "    </tr>\n",
       "    <tr>\n",
       "      <th>14</th>\n",
       "      <td>2013-07</td>\n",
       "      <td>0.122581</td>\n",
       "    </tr>\n",
       "    <tr>\n",
       "      <th>15</th>\n",
       "      <td>2013-08</td>\n",
       "      <td>0.145791</td>\n",
       "    </tr>\n",
       "    <tr>\n",
       "      <th>16</th>\n",
       "      <td>2013-09</td>\n",
       "      <td>0.144309</td>\n",
       "    </tr>\n",
       "    <tr>\n",
       "      <th>17</th>\n",
       "      <td>2013-10</td>\n",
       "      <td>0.170172</td>\n",
       "    </tr>\n",
       "    <tr>\n",
       "      <th>18</th>\n",
       "      <td>2013-11</td>\n",
       "      <td>0.137736</td>\n",
       "    </tr>\n",
       "    <tr>\n",
       "      <th>19</th>\n",
       "      <td>2013-12</td>\n",
       "      <td>0.113900</td>\n",
       "    </tr>\n",
       "    <tr>\n",
       "      <th>20</th>\n",
       "      <td>2014-01</td>\n",
       "      <td>0.137457</td>\n",
       "    </tr>\n",
       "    <tr>\n",
       "      <th>21</th>\n",
       "      <td>2014-02</td>\n",
       "      <td>0.094877</td>\n",
       "    </tr>\n",
       "    <tr>\n",
       "      <th>22</th>\n",
       "      <td>2014-03</td>\n",
       "      <td>0.092697</td>\n",
       "    </tr>\n",
       "    <tr>\n",
       "      <th>23</th>\n",
       "      <td>2014-04</td>\n",
       "      <td>0.034247</td>\n",
       "    </tr>\n",
       "    <tr>\n",
       "      <th>24</th>\n",
       "      <td>2014-05</td>\n",
       "      <td>0.008197</td>\n",
       "    </tr>\n",
       "  </tbody>\n",
       "</table>\n",
       "</div>"
      ],
      "text/plain": [
       "   creation_month  adoption_rate\n",
       "0         2012-05       0.062500\n",
       "1         2012-06       0.154613\n",
       "2         2012-07       0.144703\n",
       "3         2012-08       0.169863\n",
       "4         2012-09       0.156479\n",
       "5         2012-10       0.159601\n",
       "6         2012-11       0.150246\n",
       "7         2012-12       0.135922\n",
       "8         2013-01       0.116331\n",
       "9         2013-02       0.159705\n",
       "10        2013-03       0.131183\n",
       "11        2013-04       0.143508\n",
       "12        2013-05       0.123110\n",
       "13        2013-06       0.163636\n",
       "14        2013-07       0.122581\n",
       "15        2013-08       0.145791\n",
       "16        2013-09       0.144309\n",
       "17        2013-10       0.170172\n",
       "18        2013-11       0.137736\n",
       "19        2013-12       0.113900\n",
       "20        2014-01       0.137457\n",
       "21        2014-02       0.094877\n",
       "22        2014-03       0.092697\n",
       "23        2014-04       0.034247\n",
       "24        2014-05       0.008197"
      ]
     },
     "execution_count": 10,
     "metadata": {},
     "output_type": "execute_result"
    }
   ],
   "source": [
    "# Check adoption rate of each signup month\n",
    "monthly_adoption_df = user_df.groupby(pd.Grouper(key='creation_time', freq='M'))[['adopted_user']].mean().reset_index()\n",
    "monthly_adoption_df['creation_time'] = monthly_adoption_df['creation_time'].dt.strftime('%Y-%m')\n",
    "monthly_adoption_df.columns = ['creation_month', 'adoption_rate']\n",
    "monthly_adoption_df"
   ]
  },
  {
   "cell_type": "code",
   "execution_count": 11,
   "metadata": {},
   "outputs": [
    {
     "data": {
      "image/png": "[encoded data removed]",
      "text/plain": [
       "<Figure size 1152x288 with 1 Axes>"
      ]
     },
     "metadata": {
      "needs_background": "light"
     },
     "output_type": "display_data"
    }
   ],
   "source": [
    "# Plot monthly adoption\n",
    "plt.figure(figsize=(16, 4))\n",
    "sns.lineplot(data=monthly_adoption_df, x='creation_month', y='adoption_rate')\n",
    "plt.title('Monthly Adoption Rate', fontsize=16)\n",
    "plt.xticks(ticks=range(monthly_adoption_df.shape[0]), labels=monthly_adoption_df['creation_month'], rotation=45, ha='right')\n",
    "plt.xlim((0, monthly_adoption_df.shape[0] - 1));"
   ]
  },
  {
   "cell_type": "markdown",
   "metadata": {},
   "source": [
    "### Categorical variables"
   ]
  },
  {
   "cell_type": "code",
   "execution_count": 12,
   "metadata": {},
   "outputs": [
    {
     "data": {
      "text/html": [
       "<div>\n",
       "<style scoped>\n",
       "    .dataframe tbody tr th:only-of-type {\n",
       "        vertical-align: middle;\n",
       "    }\n",
       "\n",
       "    .dataframe tbody tr th {\n",
       "        vertical-align: top;\n",
       "    }\n",
       "\n",
       "    .dataframe thead th {\n",
       "        text-align: right;\n",
       "    }\n",
       "</style>\n",
       "<table border=\"1\" class=\"dataframe\">\n",
       "  <thead>\n",
       "    <tr style=\"text-align: right;\">\n",
       "      <th></th>\n",
       "      <th>user_id</th>\n",
       "      <th>creation_time</th>\n",
       "      <th>creation_source</th>\n",
       "      <th>last_session_creation_time</th>\n",
       "      <th>opted_in_to_mailing_list</th>\n",
       "      <th>enabled_for_marketing_drip</th>\n",
       "      <th>org_id</th>\n",
       "      <th>adopted_user</th>\n",
       "      <th>visited</th>\n",
       "      <th>first_use</th>\n",
       "      <th>days_to_first_use</th>\n",
       "      <th>invited</th>\n",
       "      <th>email_domain</th>\n",
       "    </tr>\n",
       "  </thead>\n",
       "  <tbody>\n",
       "    <tr>\n",
       "      <th>0</th>\n",
       "      <td>1</td>\n",
       "      <td>2014-04-22 03:53:30</td>\n",
       "      <td>GUEST_INVITE</td>\n",
       "      <td>2014-04-22 03:53:30</td>\n",
       "      <td>1</td>\n",
       "      <td>0</td>\n",
       "      <td>11</td>\n",
       "      <td>0</td>\n",
       "      <td>1</td>\n",
       "      <td>2014-04-22 03:53:30</td>\n",
       "      <td>0.0</td>\n",
       "      <td>1</td>\n",
       "      <td>yahoo.com</td>\n",
       "    </tr>\n",
       "    <tr>\n",
       "      <th>1</th>\n",
       "      <td>2</td>\n",
       "      <td>2013-11-15 03:45:04</td>\n",
       "      <td>ORG_INVITE</td>\n",
       "      <td>2014-03-31 03:45:04</td>\n",
       "      <td>0</td>\n",
       "      <td>0</td>\n",
       "      <td>1</td>\n",
       "      <td>0</td>\n",
       "      <td>14</td>\n",
       "      <td>2013-11-15 03:45:04</td>\n",
       "      <td>0.0</td>\n",
       "      <td>1</td>\n",
       "      <td>gustr.com</td>\n",
       "    </tr>\n",
       "  </tbody>\n",
       "</table>\n",
       "</div>"
      ],
      "text/plain": [
       "   user_id       creation_time creation_source last_session_creation_time  \\\n",
       "0        1 2014-04-22 03:53:30    GUEST_INVITE        2014-04-22 03:53:30   \n",
       "1        2 2013-11-15 03:45:04      ORG_INVITE        2014-03-31 03:45:04   \n",
       "\n",
       "   opted_in_to_mailing_list  enabled_for_marketing_drip  org_id  adopted_user  \\\n",
       "0                         1                           0      11             0   \n",
       "1                         0                           0       1             0   \n",
       "\n",
       "   visited           first_use  days_to_first_use  invited email_domain  \n",
       "0        1 2014-04-22 03:53:30                0.0        1    yahoo.com  \n",
       "1       14 2013-11-15 03:45:04                0.0        1    gustr.com  "
      ]
     },
     "execution_count": 12,
     "metadata": {},
     "output_type": "execute_result"
    }
   ],
   "source": [
    "# Simplify `invited_by_user_id` to a boolean feature that indicates whether the user was invited\n",
    "user_df['invited'] = user_df['invited_by_user_id'].fillna(0).apply(lambda u: 1 if u > 0 else 0)\n",
    "user_df.drop('invited_by_user_id', axis=1, inplace=True)\n",
    "\n",
    "# Extract email domain\n",
    "user_df['email_domain'] = user_df['email'].str.split('@').apply(lambda e: e[-1])\n",
    "\n",
    "# Drop name and email\n",
    "user_df.drop(['name', 'email'], axis=1, inplace=True)\n",
    "user_df.head(2)"
   ]
  },
  {
   "cell_type": "code",
   "execution_count": 13,
   "metadata": {},
   "outputs": [
    {
     "data": {
      "text/plain": [
       "gmail.com         3562\n",
       "yahoo.com         2447\n",
       "jourrapide.com    1259\n",
       "cuvox.de          1202\n",
       "gustr.com         1179\n",
       "hotmail.com       1165\n",
       "rerwl.com            2\n",
       "oqpze.com            2\n",
       "qgjbc.com            2\n",
       "dqwln.com            2\n",
       "mumdc.com            2\n",
       "xybhi.com            2\n",
       "xvnbr.com            2\n",
       "luque.com            2\n",
       "Name: email_domain, dtype: int64"
      ]
     },
     "execution_count": 13,
     "metadata": {},
     "output_type": "execute_result"
    }
   ],
   "source": [
    "# Inspect email domains\n",
    "email_domains = user_df['email_domain'].value_counts(ascending=False)\n",
    "email_domains[email_domains > 1]"
   ]
  },
  {
   "cell_type": "code",
   "execution_count": 14,
   "metadata": {},
   "outputs": [
    {
     "data": {
      "text/plain": [
       "gmail.com         3562\n",
       "yahoo.com         2447\n",
       "jourrapide.com    1259\n",
       "cuvox.de          1202\n",
       "other             1186\n",
       "gustr.com         1179\n",
       "hotmail.com       1165\n",
       "Name: email_domain, dtype: int64"
      ]
     },
     "execution_count": 14,
     "metadata": {},
     "output_type": "execute_result"
    }
   ],
   "source": [
    "# Group rare domains into a single category\n",
    "common_domains = email_domains[email_domains > 2].index.values\n",
    "user_df['email_domain'] = user_df['email_domain'].apply(lambda d: d if d in common_domains else 'other')\n",
    "user_df['email_domain'].value_counts()"
   ]
  },
  {
   "cell_type": "code",
   "execution_count": 15,
   "metadata": {},
   "outputs": [
    {
     "data": {
      "text/html": [
       "<div>\n",
       "<style scoped>\n",
       "    .dataframe tbody tr th:only-of-type {\n",
       "        vertical-align: middle;\n",
       "    }\n",
       "\n",
       "    .dataframe tbody tr th {\n",
       "        vertical-align: top;\n",
       "    }\n",
       "\n",
       "    .dataframe thead th {\n",
       "        text-align: right;\n",
       "    }\n",
       "</style>\n",
       "<table border=\"1\" class=\"dataframe\">\n",
       "  <thead>\n",
       "    <tr style=\"text-align: right;\">\n",
       "      <th></th>\n",
       "      <th>adopted_user</th>\n",
       "      <th>visited</th>\n",
       "    </tr>\n",
       "    <tr>\n",
       "      <th>email_domain</th>\n",
       "      <th></th>\n",
       "      <th></th>\n",
       "    </tr>\n",
       "  </thead>\n",
       "  <tbody>\n",
       "    <tr>\n",
       "      <th>cuvox.de</th>\n",
       "      <td>0.103993</td>\n",
       "      <td>13.729617</td>\n",
       "    </tr>\n",
       "    <tr>\n",
       "      <th>gmail.com</th>\n",
       "      <td>0.133352</td>\n",
       "      <td>20.019652</td>\n",
       "    </tr>\n",
       "    <tr>\n",
       "      <th>gustr.com</th>\n",
       "      <td>0.109415</td>\n",
       "      <td>16.547074</td>\n",
       "    </tr>\n",
       "    <tr>\n",
       "      <th>hotmail.com</th>\n",
       "      <td>0.157940</td>\n",
       "      <td>21.831760</td>\n",
       "    </tr>\n",
       "    <tr>\n",
       "      <th>jourrapide.com</th>\n",
       "      <td>0.117554</td>\n",
       "      <td>18.486100</td>\n",
       "    </tr>\n",
       "    <tr>\n",
       "      <th>other</th>\n",
       "      <td>0.123103</td>\n",
       "      <td>17.264755</td>\n",
       "    </tr>\n",
       "    <tr>\n",
       "      <th>yahoo.com</th>\n",
       "      <td>0.097262</td>\n",
       "      <td>12.836535</td>\n",
       "    </tr>\n",
       "  </tbody>\n",
       "</table>\n",
       "</div>"
      ],
      "text/plain": [
       "                adopted_user    visited\n",
       "email_domain                           \n",
       "cuvox.de            0.103993  13.729617\n",
       "gmail.com           0.133352  20.019652\n",
       "gustr.com           0.109415  16.547074\n",
       "hotmail.com         0.157940  21.831760\n",
       "jourrapide.com      0.117554  18.486100\n",
       "other               0.123103  17.264755\n",
       "yahoo.com           0.097262  12.836535"
      ]
     },
     "execution_count": 15,
     "metadata": {},
     "output_type": "execute_result"
    },
    {
     "data": {
      "image/png": "[encoded data removed]",
      "text/plain": [
       "<Figure size 1152x288 with 2 Axes>"
      ]
     },
     "metadata": {
      "needs_background": "light"
     },
     "output_type": "display_data"
    }
   ],
   "source": [
    "# User adoption and average logins by email domain\n",
    "fig1, ax1 = plt.subplots(1, 2, figsize=(16, 4))\n",
    "sns.countplot(data=user_df, x='email_domain', hue='adopted_user', ax=ax1[0])\n",
    "sns.barplot(data=user_df, x='email_domain', y='visited', ax=ax1[1])\n",
    "ax1[0].set_title('User Adoption by Email Domain', fontsize=16)\n",
    "ax1[1].set_title('Average Logins by Email Domain', fontsize=16)\n",
    "ax1[0].set_xticklabels(ax1[0].get_xticklabels(), rotation=30, ha='right')\n",
    "ax1[1].set_xticklabels(ax1[1].get_xticklabels(), rotation=30, ha='right')\n",
    "\n",
    "user_df.groupby('email_domain')[['adopted_user', 'visited']].mean()"
   ]
  },
  {
   "cell_type": "code",
   "execution_count": 16,
   "metadata": {},
   "outputs": [
    {
     "data": {
      "text/html": [
       "<div>\n",
       "<style scoped>\n",
       "    .dataframe tbody tr th:only-of-type {\n",
       "        vertical-align: middle;\n",
       "    }\n",
       "\n",
       "    .dataframe tbody tr th {\n",
       "        vertical-align: top;\n",
       "    }\n",
       "\n",
       "    .dataframe thead th {\n",
       "        text-align: right;\n",
       "    }\n",
       "</style>\n",
       "<table border=\"1\" class=\"dataframe\">\n",
       "  <thead>\n",
       "    <tr style=\"text-align: right;\">\n",
       "      <th></th>\n",
       "      <th>adopted_user</th>\n",
       "      <th>visited</th>\n",
       "    </tr>\n",
       "    <tr>\n",
       "      <th>creation_source</th>\n",
       "      <th></th>\n",
       "      <th></th>\n",
       "    </tr>\n",
       "  </thead>\n",
       "  <tbody>\n",
       "    <tr>\n",
       "      <th>GUEST_INVITE</th>\n",
       "      <td>0.152566</td>\n",
       "      <td>21.634767</td>\n",
       "    </tr>\n",
       "    <tr>\n",
       "      <th>ORG_INVITE</th>\n",
       "      <td>0.115891</td>\n",
       "      <td>16.476493</td>\n",
       "    </tr>\n",
       "    <tr>\n",
       "      <th>PERSONAL_PROJECTS</th>\n",
       "      <td>0.067740</td>\n",
       "      <td>9.105637</td>\n",
       "    </tr>\n",
       "    <tr>\n",
       "      <th>SIGNUP</th>\n",
       "      <td>0.130810</td>\n",
       "      <td>17.989938</td>\n",
       "    </tr>\n",
       "    <tr>\n",
       "      <th>SIGNUP_GOOGLE_AUTH</th>\n",
       "      <td>0.148736</td>\n",
       "      <td>24.738628</td>\n",
       "    </tr>\n",
       "  </tbody>\n",
       "</table>\n",
       "</div>"
      ],
      "text/plain": [
       "                    adopted_user    visited\n",
       "creation_source                            \n",
       "GUEST_INVITE            0.152566  21.634767\n",
       "ORG_INVITE              0.115891  16.476493\n",
       "PERSONAL_PROJECTS       0.067740   9.105637\n",
       "SIGNUP                  0.130810  17.989938\n",
       "SIGNUP_GOOGLE_AUTH      0.148736  24.738628"
      ]
     },
     "execution_count": 16,
     "metadata": {},
     "output_type": "execute_result"
    },
    {
     "data": {
      "image/png": "[encoded data removed]",
      "text/plain": [
       "<Figure size 1152x288 with 2 Axes>"
      ]
     },
     "metadata": {
      "needs_background": "light"
     },
     "output_type": "display_data"
    }
   ],
   "source": [
    "# User adoption and average logins by creation source\n",
    "fig2, ax2 = plt.subplots(1, 2, figsize=(16, 4))\n",
    "sns.countplot(data=user_df, x='creation_source', hue='adopted_user', ax=ax2[0])\n",
    "sns.barplot(data=user_df, x='creation_source', y='visited', ax=ax2[1])\n",
    "ax2[0].set_title('User Adoption by Creation Source', fontsize=16)\n",
    "ax2[1].set_title('Average Logins by Creation Source', fontsize=16)\n",
    "ax2[0].set_xticklabels(ax2[0].get_xticklabels(), rotation=30, ha='right')\n",
    "ax2[1].set_xticklabels(ax2[1].get_xticklabels(), rotation=30, ha='right')\n",
    "\n",
    "user_df.groupby('creation_source')[['adopted_user', 'visited']].mean()"
   ]
  },
  {
   "cell_type": "code",
   "execution_count": 17,
   "metadata": {},
   "outputs": [
    {
     "data": {
      "text/plain": [
       "(52, 613)"
      ]
     },
     "execution_count": 17,
     "metadata": {},
     "output_type": "execute_result"
    }
   ],
   "source": [
    "# Group organizations with less than 15 accounts into 999 (to represent others)\n",
    "org_users = user_df['org_id'].value_counts()\n",
    "org_lt15u_idxs = org_users[org_users < 15].index.values\n",
    "user_df['org_id'] = user_df['org_id'].apply(lambda i: 999 if i in org_lt15u_idxs else i)\n",
    "len(org_lt15u_idxs), org_users[org_users < 15].sum()"
   ]
  },
  {
   "cell_type": "code",
   "execution_count": 18,
   "metadata": {},
   "outputs": [
    {
     "data": {
      "text/html": [
       "<div>\n",
       "<style scoped>\n",
       "    .dataframe tbody tr th:only-of-type {\n",
       "        vertical-align: middle;\n",
       "    }\n",
       "\n",
       "    .dataframe tbody tr th {\n",
       "        vertical-align: top;\n",
       "    }\n",
       "\n",
       "    .dataframe thead th {\n",
       "        text-align: right;\n",
       "    }\n",
       "</style>\n",
       "<table border=\"1\" class=\"dataframe\">\n",
       "  <thead>\n",
       "    <tr style=\"text-align: right;\">\n",
       "      <th></th>\n",
       "      <th>adopted_user</th>\n",
       "      <th>visited</th>\n",
       "    </tr>\n",
       "    <tr>\n",
       "      <th>org_id</th>\n",
       "      <th></th>\n",
       "      <th></th>\n",
       "    </tr>\n",
       "  </thead>\n",
       "  <tbody>\n",
       "    <tr>\n",
       "      <th>392</th>\n",
       "      <td>0.375000</td>\n",
       "      <td>42.437500</td>\n",
       "    </tr>\n",
       "    <tr>\n",
       "      <th>289</th>\n",
       "      <td>0.352941</td>\n",
       "      <td>59.882353</td>\n",
       "    </tr>\n",
       "    <tr>\n",
       "      <th>218</th>\n",
       "      <td>0.333333</td>\n",
       "      <td>60.291667</td>\n",
       "    </tr>\n",
       "    <tr>\n",
       "      <th>161</th>\n",
       "      <td>0.333333</td>\n",
       "      <td>71.000000</td>\n",
       "    </tr>\n",
       "    <tr>\n",
       "      <th>281</th>\n",
       "      <td>0.333333</td>\n",
       "      <td>41.444444</td>\n",
       "    </tr>\n",
       "    <tr>\n",
       "      <th>117</th>\n",
       "      <td>0.318182</td>\n",
       "      <td>65.500000</td>\n",
       "    </tr>\n",
       "    <tr>\n",
       "      <th>177</th>\n",
       "      <td>0.315789</td>\n",
       "      <td>43.631579</td>\n",
       "    </tr>\n",
       "    <tr>\n",
       "      <th>415</th>\n",
       "      <td>0.312500</td>\n",
       "      <td>43.375000</td>\n",
       "    </tr>\n",
       "    <tr>\n",
       "      <th>343</th>\n",
       "      <td>0.300000</td>\n",
       "      <td>62.150000</td>\n",
       "    </tr>\n",
       "    <tr>\n",
       "      <th>82</th>\n",
       "      <td>0.296296</td>\n",
       "      <td>34.666667</td>\n",
       "    </tr>\n",
       "    <tr>\n",
       "      <th>273</th>\n",
       "      <td>0.294118</td>\n",
       "      <td>49.000000</td>\n",
       "    </tr>\n",
       "    <tr>\n",
       "      <th>280</th>\n",
       "      <td>0.294118</td>\n",
       "      <td>31.882353</td>\n",
       "    </tr>\n",
       "    <tr>\n",
       "      <th>282</th>\n",
       "      <td>0.294118</td>\n",
       "      <td>27.470588</td>\n",
       "    </tr>\n",
       "    <tr>\n",
       "      <th>225</th>\n",
       "      <td>0.294118</td>\n",
       "      <td>92.882353</td>\n",
       "    </tr>\n",
       "    <tr>\n",
       "      <th>366</th>\n",
       "      <td>0.294118</td>\n",
       "      <td>33.705882</td>\n",
       "    </tr>\n",
       "    <tr>\n",
       "      <th>62</th>\n",
       "      <td>0.282051</td>\n",
       "      <td>53.128205</td>\n",
       "    </tr>\n",
       "    <tr>\n",
       "      <th>306</th>\n",
       "      <td>0.277778</td>\n",
       "      <td>33.722222</td>\n",
       "    </tr>\n",
       "    <tr>\n",
       "      <th>209</th>\n",
       "      <td>0.266667</td>\n",
       "      <td>23.866667</td>\n",
       "    </tr>\n",
       "    <tr>\n",
       "      <th>156</th>\n",
       "      <td>0.260870</td>\n",
       "      <td>17.434783</td>\n",
       "    </tr>\n",
       "    <tr>\n",
       "      <th>181</th>\n",
       "      <td>0.259259</td>\n",
       "      <td>30.000000</td>\n",
       "    </tr>\n",
       "    <tr>\n",
       "      <th>193</th>\n",
       "      <td>0.250000</td>\n",
       "      <td>54.437500</td>\n",
       "    </tr>\n",
       "    <tr>\n",
       "      <th>44</th>\n",
       "      <td>0.250000</td>\n",
       "      <td>37.805556</td>\n",
       "    </tr>\n",
       "    <tr>\n",
       "      <th>212</th>\n",
       "      <td>0.250000</td>\n",
       "      <td>40.937500</td>\n",
       "    </tr>\n",
       "    <tr>\n",
       "      <th>284</th>\n",
       "      <td>0.250000</td>\n",
       "      <td>31.050000</td>\n",
       "    </tr>\n",
       "    <tr>\n",
       "      <th>337</th>\n",
       "      <td>0.250000</td>\n",
       "      <td>49.625000</td>\n",
       "    </tr>\n",
       "    <tr>\n",
       "      <th>316</th>\n",
       "      <td>0.250000</td>\n",
       "      <td>13.300000</td>\n",
       "    </tr>\n",
       "  </tbody>\n",
       "</table>\n",
       "</div>"
      ],
      "text/plain": [
       "        adopted_user    visited\n",
       "org_id                         \n",
       "392         0.375000  42.437500\n",
       "289         0.352941  59.882353\n",
       "218         0.333333  60.291667\n",
       "161         0.333333  71.000000\n",
       "281         0.333333  41.444444\n",
       "117         0.318182  65.500000\n",
       "177         0.315789  43.631579\n",
       "415         0.312500  43.375000\n",
       "343         0.300000  62.150000\n",
       "82          0.296296  34.666667\n",
       "273         0.294118  49.000000\n",
       "280         0.294118  31.882353\n",
       "282         0.294118  27.470588\n",
       "225         0.294118  92.882353\n",
       "366         0.294118  33.705882\n",
       "62          0.282051  53.128205\n",
       "306         0.277778  33.722222\n",
       "209         0.266667  23.866667\n",
       "156         0.260870  17.434783\n",
       "181         0.259259  30.000000\n",
       "193         0.250000  54.437500\n",
       "44          0.250000  37.805556\n",
       "212         0.250000  40.937500\n",
       "284         0.250000  31.050000\n",
       "337         0.250000  49.625000\n",
       "316         0.250000  13.300000"
      ]
     },
     "execution_count": 18,
     "metadata": {},
     "output_type": "execute_result"
    },
    {
     "data": {
      "image/png": "[encoded data removed]",
      "text/plain": [
       "<Figure size 576x576 with 1 Axes>"
      ]
     },
     "metadata": {
      "needs_background": "light"
     },
     "output_type": "display_data"
    }
   ],
   "source": [
    "# Adoption rate by organization\n",
    "org_adoption_df = user_df.groupby('org_id')[['adopted_user', 'visited']].mean().sort_values('adopted_user', ascending=False)\n",
    "org_adoption_df[org_adoption_df['adopted_user'] >= 0.25]['adopted_user'].plot(kind='barh', figsize=(8, 8))\n",
    "plt.title('Organizations with an Adoption Rate of At Least 25%', fontsize=16)\n",
    "plt.xlabel('adoption_rate')\n",
    "\n",
    "org_adoption_df[org_adoption_df['adopted_user'] >= 0.25]"
   ]
  },
  {
   "cell_type": "markdown",
   "metadata": {},
   "source": [
    "### Encode categorical variables"
   ]
  },
  {
   "cell_type": "code",
   "execution_count": 19,
   "metadata": {},
   "outputs": [
    {
     "name": "stdout",
     "output_type": "stream",
     "text": [
      "366\n"
     ]
    },
    {
     "data": {
      "text/html": [
       "<div>\n",
       "<style scoped>\n",
       "    .dataframe tbody tr th:only-of-type {\n",
       "        vertical-align: middle;\n",
       "    }\n",
       "\n",
       "    .dataframe tbody tr th {\n",
       "        vertical-align: top;\n",
       "    }\n",
       "\n",
       "    .dataframe thead th {\n",
       "        text-align: right;\n",
       "    }\n",
       "</style>\n",
       "<table border=\"1\" class=\"dataframe\">\n",
       "  <thead>\n",
       "    <tr style=\"text-align: right;\">\n",
       "      <th></th>\n",
       "      <th>user_id</th>\n",
       "      <th>creation_time</th>\n",
       "      <th>creation_source</th>\n",
       "      <th>last_session_creation_time</th>\n",
       "      <th>opted_in_to_mailing_list</th>\n",
       "      <th>enabled_for_marketing_drip</th>\n",
       "      <th>org_id</th>\n",
       "      <th>adopted_user</th>\n",
       "      <th>visited</th>\n",
       "      <th>first_use</th>\n",
       "      <th>days_to_first_use</th>\n",
       "      <th>invited</th>\n",
       "      <th>email_domain</th>\n",
       "    </tr>\n",
       "  </thead>\n",
       "  <tbody>\n",
       "    <tr>\n",
       "      <th>0</th>\n",
       "      <td>1</td>\n",
       "      <td>2014-04-22 03:53:30</td>\n",
       "      <td>GUEST_INVITE</td>\n",
       "      <td>2014-04-22 03:53:30</td>\n",
       "      <td>1</td>\n",
       "      <td>0</td>\n",
       "      <td>0.106667</td>\n",
       "      <td>0</td>\n",
       "      <td>1</td>\n",
       "      <td>2014-04-22 03:53:30</td>\n",
       "      <td>0.0</td>\n",
       "      <td>1</td>\n",
       "      <td>yahoo.com</td>\n",
       "    </tr>\n",
       "    <tr>\n",
       "      <th>1</th>\n",
       "      <td>2</td>\n",
       "      <td>2013-11-15 03:45:04</td>\n",
       "      <td>ORG_INVITE</td>\n",
       "      <td>2014-03-31 03:45:04</td>\n",
       "      <td>0</td>\n",
       "      <td>0</td>\n",
       "      <td>0.055794</td>\n",
       "      <td>0</td>\n",
       "      <td>14</td>\n",
       "      <td>2013-11-15 03:45:04</td>\n",
       "      <td>0.0</td>\n",
       "      <td>1</td>\n",
       "      <td>gustr.com</td>\n",
       "    </tr>\n",
       "  </tbody>\n",
       "</table>\n",
       "</div>"
      ],
      "text/plain": [
       "   user_id       creation_time creation_source last_session_creation_time  \\\n",
       "0        1 2014-04-22 03:53:30    GUEST_INVITE        2014-04-22 03:53:30   \n",
       "1        2 2013-11-15 03:45:04      ORG_INVITE        2014-03-31 03:45:04   \n",
       "\n",
       "   opted_in_to_mailing_list  enabled_for_marketing_drip    org_id  \\\n",
       "0                         1                           0  0.106667   \n",
       "1                         0                           0  0.055794   \n",
       "\n",
       "   adopted_user  visited           first_use  days_to_first_use  invited  \\\n",
       "0             0        1 2014-04-22 03:53:30                0.0        1   \n",
       "1             0       14 2013-11-15 03:45:04                0.0        1   \n",
       "\n",
       "  email_domain  \n",
       "0    yahoo.com  \n",
       "1    gustr.com  "
      ]
     },
     "execution_count": 19,
     "metadata": {},
     "output_type": "execute_result"
    }
   ],
   "source": [
    "# Create an organization-to-adoption-rate mapping\n",
    "org_ar = dict(org_adoption_df['adopted_user'].sort_index())\n",
    "print(len(org_ar))\n",
    "\n",
    "# Encode `org_id` with their adoption rate\n",
    "user_df['org_id'] = user_df['org_id'].map(org_ar)\n",
    "user_df.head(2)"
   ]
  },
  {
   "cell_type": "code",
   "execution_count": 20,
   "metadata": {},
   "outputs": [
    {
     "name": "stdout",
     "output_type": "stream",
     "text": [
      "5\n"
     ]
    },
    {
     "data": {
      "text/html": [
       "<div>\n",
       "<style scoped>\n",
       "    .dataframe tbody tr th:only-of-type {\n",
       "        vertical-align: middle;\n",
       "    }\n",
       "\n",
       "    .dataframe tbody tr th {\n",
       "        vertical-align: top;\n",
       "    }\n",
       "\n",
       "    .dataframe thead th {\n",
       "        text-align: right;\n",
       "    }\n",
       "</style>\n",
       "<table border=\"1\" class=\"dataframe\">\n",
       "  <thead>\n",
       "    <tr style=\"text-align: right;\">\n",
       "      <th></th>\n",
       "      <th>user_id</th>\n",
       "      <th>creation_time</th>\n",
       "      <th>creation_source</th>\n",
       "      <th>last_session_creation_time</th>\n",
       "      <th>opted_in_to_mailing_list</th>\n",
       "      <th>enabled_for_marketing_drip</th>\n",
       "      <th>org_id</th>\n",
       "      <th>adopted_user</th>\n",
       "      <th>visited</th>\n",
       "      <th>first_use</th>\n",
       "      <th>days_to_first_use</th>\n",
       "      <th>invited</th>\n",
       "      <th>email_domain</th>\n",
       "    </tr>\n",
       "  </thead>\n",
       "  <tbody>\n",
       "    <tr>\n",
       "      <th>0</th>\n",
       "      <td>1</td>\n",
       "      <td>2014-04-22 03:53:30</td>\n",
       "      <td>0.152566</td>\n",
       "      <td>2014-04-22 03:53:30</td>\n",
       "      <td>1</td>\n",
       "      <td>0</td>\n",
       "      <td>0.106667</td>\n",
       "      <td>0</td>\n",
       "      <td>1</td>\n",
       "      <td>2014-04-22 03:53:30</td>\n",
       "      <td>0.0</td>\n",
       "      <td>1</td>\n",
       "      <td>yahoo.com</td>\n",
       "    </tr>\n",
       "    <tr>\n",
       "      <th>1</th>\n",
       "      <td>2</td>\n",
       "      <td>2013-11-15 03:45:04</td>\n",
       "      <td>0.115891</td>\n",
       "      <td>2014-03-31 03:45:04</td>\n",
       "      <td>0</td>\n",
       "      <td>0</td>\n",
       "      <td>0.055794</td>\n",
       "      <td>0</td>\n",
       "      <td>14</td>\n",
       "      <td>2013-11-15 03:45:04</td>\n",
       "      <td>0.0</td>\n",
       "      <td>1</td>\n",
       "      <td>gustr.com</td>\n",
       "    </tr>\n",
       "  </tbody>\n",
       "</table>\n",
       "</div>"
      ],
      "text/plain": [
       "   user_id       creation_time  creation_source last_session_creation_time  \\\n",
       "0        1 2014-04-22 03:53:30         0.152566        2014-04-22 03:53:30   \n",
       "1        2 2013-11-15 03:45:04         0.115891        2014-03-31 03:45:04   \n",
       "\n",
       "   opted_in_to_mailing_list  enabled_for_marketing_drip    org_id  \\\n",
       "0                         1                           0  0.106667   \n",
       "1                         0                           0  0.055794   \n",
       "\n",
       "   adopted_user  visited           first_use  days_to_first_use  invited  \\\n",
       "0             0        1 2014-04-22 03:53:30                0.0        1   \n",
       "1             0       14 2013-11-15 03:45:04                0.0        1   \n",
       "\n",
       "  email_domain  \n",
       "0    yahoo.com  \n",
       "1    gustr.com  "
      ]
     },
     "execution_count": 20,
     "metadata": {},
     "output_type": "execute_result"
    }
   ],
   "source": [
    "# Encode creation_source\n",
    "src_ar = user_df.groupby('creation_source')['adopted_user'].mean().to_dict()\n",
    "print(len(src_ar))\n",
    "\n",
    "# Encode `creation_source` with their adoption rate\n",
    "user_df['creation_source'] = user_df.creation_source.map(src_ar)\n",
    "user_df.head(2)"
   ]
  },
  {
   "cell_type": "code",
   "execution_count": 21,
   "metadata": {},
   "outputs": [
    {
     "data": {
      "text/html": [
       "<div>\n",
       "<style scoped>\n",
       "    .dataframe tbody tr th:only-of-type {\n",
       "        vertical-align: middle;\n",
       "    }\n",
       "\n",
       "    .dataframe tbody tr th {\n",
       "        vertical-align: top;\n",
       "    }\n",
       "\n",
       "    .dataframe thead th {\n",
       "        text-align: right;\n",
       "    }\n",
       "</style>\n",
       "<table border=\"1\" class=\"dataframe\">\n",
       "  <thead>\n",
       "    <tr style=\"text-align: right;\">\n",
       "      <th></th>\n",
       "      <th>user_id</th>\n",
       "      <th>creation_time</th>\n",
       "      <th>creation_source</th>\n",
       "      <th>last_session_creation_time</th>\n",
       "      <th>opted_in_to_mailing_list</th>\n",
       "      <th>enabled_for_marketing_drip</th>\n",
       "      <th>org_id</th>\n",
       "      <th>adopted_user</th>\n",
       "      <th>visited</th>\n",
       "      <th>first_use</th>\n",
       "      <th>days_to_first_use</th>\n",
       "      <th>invited</th>\n",
       "      <th>email_domain</th>\n",
       "    </tr>\n",
       "  </thead>\n",
       "  <tbody>\n",
       "    <tr>\n",
       "      <th>0</th>\n",
       "      <td>1</td>\n",
       "      <td>2014-04-22 03:53:30</td>\n",
       "      <td>0.152566</td>\n",
       "      <td>2014-04-22 03:53:30</td>\n",
       "      <td>1</td>\n",
       "      <td>0</td>\n",
       "      <td>0.106667</td>\n",
       "      <td>0</td>\n",
       "      <td>1</td>\n",
       "      <td>2014-04-22 03:53:30</td>\n",
       "      <td>0.0</td>\n",
       "      <td>1</td>\n",
       "      <td>0.097262</td>\n",
       "    </tr>\n",
       "    <tr>\n",
       "      <th>1</th>\n",
       "      <td>2</td>\n",
       "      <td>2013-11-15 03:45:04</td>\n",
       "      <td>0.115891</td>\n",
       "      <td>2014-03-31 03:45:04</td>\n",
       "      <td>0</td>\n",
       "      <td>0</td>\n",
       "      <td>0.055794</td>\n",
       "      <td>0</td>\n",
       "      <td>14</td>\n",
       "      <td>2013-11-15 03:45:04</td>\n",
       "      <td>0.0</td>\n",
       "      <td>1</td>\n",
       "      <td>0.109415</td>\n",
       "    </tr>\n",
       "  </tbody>\n",
       "</table>\n",
       "</div>"
      ],
      "text/plain": [
       "   user_id       creation_time  creation_source last_session_creation_time  \\\n",
       "0        1 2014-04-22 03:53:30         0.152566        2014-04-22 03:53:30   \n",
       "1        2 2013-11-15 03:45:04         0.115891        2014-03-31 03:45:04   \n",
       "\n",
       "   opted_in_to_mailing_list  enabled_for_marketing_drip    org_id  \\\n",
       "0                         1                           0  0.106667   \n",
       "1                         0                           0  0.055794   \n",
       "\n",
       "   adopted_user  visited           first_use  days_to_first_use  invited  \\\n",
       "0             0        1 2014-04-22 03:53:30                0.0        1   \n",
       "1             0       14 2013-11-15 03:45:04                0.0        1   \n",
       "\n",
       "   email_domain  \n",
       "0      0.097262  \n",
       "1      0.109415  "
      ]
     },
     "execution_count": 21,
     "metadata": {},
     "output_type": "execute_result"
    }
   ],
   "source": [
    "# Encode email_domain\n",
    "dom_ar = user_df.groupby('email_domain')['adopted_user'].mean().to_dict()\n",
    "user_df['email_domain'] = user_df['email_domain'].map(dom_ar)\n",
    "user_df.head(2)"
   ]
  },
  {
   "cell_type": "markdown",
   "metadata": {},
   "source": [
    "### Split data"
   ]
  },
  {
   "cell_type": "code",
   "execution_count": 22,
   "metadata": {},
   "outputs": [
    {
     "data": {
      "text/plain": [
       "((10000, 6), (2000, 6), (10000,), (2000,))"
      ]
     },
     "execution_count": 22,
     "metadata": {},
     "output_type": "execute_result"
    }
   ],
   "source": [
    "# Select features\n",
    "selected_cols = ['creation_source', 'email_domain', 'org_id', 'invited', 'opted_in_to_mailing_list', 'enabled_for_marketing_drip']\n",
    "renamed_cols = ['creation_encoding', 'domain_encoding', 'org_encoding', 'invited', 'mailing_list', 'marketing_drip']\n",
    "\n",
    "# Split data\n",
    "X = user_df[selected_cols].copy()\n",
    "X.columns = renamed_cols\n",
    "y = user_df['adopted_user'].copy()\n",
    "X_train, X_test, y_train, y_test = train_test_split(X, y, test_size=0.1666, random_state=0, stratify=y)\n",
    "X_train.shape, X_test.shape, y_train.shape, y_test.shape"
   ]
  },
  {
   "cell_type": "code",
   "execution_count": 23,
   "metadata": {},
   "outputs": [
    {
     "name": "stdout",
     "output_type": "stream",
     "text": [
      "0.1204\n"
     ]
    },
    {
     "data": {
      "text/plain": [
       "0    8796\n",
       "1    1204\n",
       "Name: adopted_user, dtype: int64"
      ]
     },
     "execution_count": 23,
     "metadata": {},
     "output_type": "execute_result"
    }
   ],
   "source": [
    "# Class (im)balance\n",
    "print(y_train.mean())\n",
    "y_train.value_counts()"
   ]
  },
  {
   "cell_type": "markdown",
   "metadata": {},
   "source": [
    "### Modeling 1"
   ]
  },
  {
   "cell_type": "code",
   "execution_count": 24,
   "metadata": {},
   "outputs": [
    {
     "name": "stdout",
     "output_type": "stream",
     "text": [
      "Train\n",
      "Accuracy: 0.8796\n",
      "ROC AUC: 0.5\n",
      "Confusion matrix:\n",
      " [[8796    0]\n",
      " [1204    0]]\n",
      "\n",
      "Test\n",
      "Accuracy: 0.8795\n",
      "ROC AUC: 0.5\n",
      "Confusion matrix:\n",
      " [[1759    0]\n",
      " [ 241    0]]\n"
     ]
    }
   ],
   "source": [
    "# Logistic regression\n",
    "lr = LogisticRegression(max_iter=1e4, random_state=0)\n",
    "lr.fit(X_train, y_train)\n",
    "lr_pred_train = lr.predict(X_train)\n",
    "lr_pred_test = lr.predict(X_test)\n",
    "\n",
    "print('Train')\n",
    "print('Accuracy:', lr.score(X_train, y_train))\n",
    "print('ROC AUC:', roc_auc_score(y_train, lr_pred_train))\n",
    "print('Confusion matrix:\\n', confusion_matrix(y_train, lr_pred_train))\n",
    "\n",
    "print('\\nTest')\n",
    "print('Accuracy:', lr.score(X_test, y_test))\n",
    "print('ROC AUC:', roc_auc_score(y_test, lr_pred_test))\n",
    "print('Confusion matrix:\\n', confusion_matrix(y_test, lr_pred_test))"
   ]
  },
  {
   "cell_type": "code",
   "execution_count": 25,
   "metadata": {},
   "outputs": [
    {
     "name": "stdout",
     "output_type": "stream",
     "text": [
      "0.6575354635252691\n",
      "{'max_depth': 6, 'min_samples_leaf': 4, 'min_samples_split': 14}\n"
     ]
    },
    {
     "data": {
      "text/plain": [
       "DecisionTreeClassifier(max_depth=6, min_samples_leaf=4, min_samples_split=14,\n",
       "                       random_state=0)"
      ]
     },
     "execution_count": 25,
     "metadata": {},
     "output_type": "execute_result"
    }
   ],
   "source": [
    "# Decision tree grid search\n",
    "dt = DecisionTreeClassifier(random_state=0)\n",
    "params = {'max_depth': range(2, 22, 2), 'min_samples_split': range(2, 22, 2), 'min_samples_leaf': range(2, 22, 2)}\n",
    "gs = GridSearchCV(dt, params, scoring='roc_auc', cv=5, n_jobs=10)\n",
    "gs.fit(X_train, y_train)\n",
    "\n",
    "print(gs.best_score_)\n",
    "print(gs.best_params_)\n",
    "gs.best_estimator_"
   ]
  },
  {
   "cell_type": "code",
   "execution_count": 26,
   "metadata": {},
   "outputs": [
    {
     "name": "stdout",
     "output_type": "stream",
     "text": [
      "Train\n",
      "Score: 0.8799\n",
      "ROC AUC: 0.5030380390361672\n",
      "Confusion matrix:\n",
      " [[8791    5]\n",
      " [1196    8]]\n",
      "\n",
      "Test\n",
      "Score: 0.8795\n",
      "ROC AUC: 0.5017904363805349\n",
      "Confusion matrix:\n",
      " [[1758    1]\n",
      " [ 240    1]]\n"
     ]
    }
   ],
   "source": [
    "# Decision tree\n",
    "dt = gs.best_estimator_\n",
    "dt.fit(X_train, y_train)\n",
    "dt_pred_train = dt.predict(X_train)\n",
    "dt_pred_test = dt.predict(X_test)\n",
    "\n",
    "print('Train')\n",
    "print('Score:', dt.score(X_train, y_train))\n",
    "print('ROC AUC:', roc_auc_score(y_train, dt_pred_train))\n",
    "print('Confusion matrix:\\n', confusion_matrix(y_train, dt_pred_train))\n",
    "\n",
    "print('\\nTest')\n",
    "print('Score:', dt.score(X_test, y_test))\n",
    "print('ROC AUC:', roc_auc_score(y_test, dt_pred_test))\n",
    "print('Confusion matrix:\\n', confusion_matrix(y_test, dt_pred_test))"
   ]
  },
  {
   "cell_type": "code",
   "execution_count": 27,
   "metadata": {},
   "outputs": [
    {
     "data": {
      "text/html": [
       "<div>\n",
       "<style scoped>\n",
       "    .dataframe tbody tr th:only-of-type {\n",
       "        vertical-align: middle;\n",
       "    }\n",
       "\n",
       "    .dataframe tbody tr th {\n",
       "        vertical-align: top;\n",
       "    }\n",
       "\n",
       "    .dataframe thead th {\n",
       "        text-align: right;\n",
       "    }\n",
       "</style>\n",
       "<table border=\"1\" class=\"dataframe\">\n",
       "  <thead>\n",
       "    <tr style=\"text-align: right;\">\n",
       "      <th></th>\n",
       "      <th>feature</th>\n",
       "      <th>lr_coef</th>\n",
       "      <th>dt_coef</th>\n",
       "    </tr>\n",
       "  </thead>\n",
       "  <tbody>\n",
       "    <tr>\n",
       "      <th>0</th>\n",
       "      <td>creation_encoding</td>\n",
       "      <td>4.205788</td>\n",
       "      <td>0.151031</td>\n",
       "    </tr>\n",
       "    <tr>\n",
       "      <th>1</th>\n",
       "      <td>domain_encoding</td>\n",
       "      <td>2.176427</td>\n",
       "      <td>0.077235</td>\n",
       "    </tr>\n",
       "    <tr>\n",
       "      <th>2</th>\n",
       "      <td>org_encoding</td>\n",
       "      <td>6.957311</td>\n",
       "      <td>0.726139</td>\n",
       "    </tr>\n",
       "    <tr>\n",
       "      <th>3</th>\n",
       "      <td>invited</td>\n",
       "      <td>0.088436</td>\n",
       "      <td>0.026211</td>\n",
       "    </tr>\n",
       "    <tr>\n",
       "      <th>4</th>\n",
       "      <td>mailing_list</td>\n",
       "      <td>0.073873</td>\n",
       "      <td>0.007224</td>\n",
       "    </tr>\n",
       "    <tr>\n",
       "      <th>5</th>\n",
       "      <td>marketing_drip</td>\n",
       "      <td>-0.072596</td>\n",
       "      <td>0.01216</td>\n",
       "    </tr>\n",
       "  </tbody>\n",
       "</table>\n",
       "</div>"
      ],
      "text/plain": [
       "             feature   lr_coef   dt_coef\n",
       "0  creation_encoding  4.205788  0.151031\n",
       "1    domain_encoding  2.176427  0.077235\n",
       "2       org_encoding  6.957311  0.726139\n",
       "3            invited  0.088436  0.026211\n",
       "4       mailing_list  0.073873  0.007224\n",
       "5     marketing_drip -0.072596   0.01216"
      ]
     },
     "execution_count": 27,
     "metadata": {},
     "output_type": "execute_result"
    }
   ],
   "source": [
    "# Feature coefficients\n",
    "pd.DataFrame(np.array([X_train.columns.values, lr.coef_[0], dt.feature_importances_]).T, \n",
    "             columns=['feature', 'lr_coef', 'dt_coef'])"
   ]
  },
  {
   "cell_type": "markdown",
   "metadata": {
    "tags": []
   },
   "source": [
    "### Modeling 2 (with resampled data)"
   ]
  },
  {
   "cell_type": "code",
   "execution_count": 28,
   "metadata": {},
   "outputs": [
    {
     "data": {
      "text/plain": [
       "((10000, 7), (8796, 7), (1204, 7))"
      ]
     },
     "execution_count": 28,
     "metadata": {},
     "output_type": "execute_result"
    }
   ],
   "source": [
    "# Split data by label\n",
    "train = pd.concat([X_train, y_train], axis=1).reset_index(drop=True)\n",
    "train0 = train[train['adopted_user'] == 0]\n",
    "train1 = train[train['adopted_user'] == 1]\n",
    "train.shape, train0.shape, train1.shape"
   ]
  },
  {
   "cell_type": "code",
   "execution_count": 29,
   "metadata": {},
   "outputs": [
    {
     "data": {
      "text/plain": [
       "0    8796\n",
       "1    8796\n",
       "Name: adopted_user, dtype: int64"
      ]
     },
     "execution_count": 29,
     "metadata": {},
     "output_type": "execute_result"
    }
   ],
   "source": [
    "# Upsample positive labels\n",
    "train1_resampled = train1.sample(train0.shape[0], replace=True)\n",
    "\n",
    "# Combine training data\n",
    "train_resampled = pd.concat([train0, train1_resampled])\n",
    "train_resampled['adopted_user'].value_counts()"
   ]
  },
  {
   "cell_type": "code",
   "execution_count": 30,
   "metadata": {},
   "outputs": [
    {
     "data": {
      "text/plain": [
       "((17592, 6), (17592,))"
      ]
     },
     "execution_count": 30,
     "metadata": {},
     "output_type": "execute_result"
    }
   ],
   "source": [
    "# Split features and label\n",
    "X_train_resampled = train_resampled.drop('adopted_user', axis=1).copy()\n",
    "y_train_resampled = train_resampled['adopted_user'].copy()\n",
    "X_train_resampled.shape, y_train_resampled.shape"
   ]
  },
  {
   "cell_type": "code",
   "execution_count": 31,
   "metadata": {},
   "outputs": [
    {
     "name": "stdout",
     "output_type": "stream",
     "text": [
      "Train\n",
      "Accuracy: 0.6358003638017281\n",
      "ROC AUC: 0.635800363801728\n",
      "Confusion matrix:\n",
      " [[5838 2958]\n",
      " [3449 5347]]\n",
      "\n",
      "Test\n",
      "Accuracy: 0.651\n",
      "ROC AUC: 0.6350812301406636\n",
      "Confusion matrix:\n",
      " [[1154  605]\n",
      " [  93  148]]\n"
     ]
    }
   ],
   "source": [
    "# Logistic regression on resampled data\n",
    "lr_resampled = LogisticRegression(max_iter=1e4, random_state=0)\n",
    "lr_resampled.fit(X_train_resampled, y_train_resampled)\n",
    "lr_resampled_pred_train = lr_resampled.predict(X_train_resampled)\n",
    "lr_resampled_pred_test = lr_resampled.predict(X_test)\n",
    "\n",
    "print('Train')\n",
    "print('Accuracy:', lr_resampled.score(X_train_resampled, y_train_resampled))\n",
    "print('ROC AUC:', roc_auc_score(y_train_resampled, lr_resampled_pred_train))\n",
    "print('Confusion matrix:\\n', confusion_matrix(y_train_resampled, lr_resampled_pred_train))\n",
    "\n",
    "print('\\nTest')\n",
    "print('Accuracy:', lr_resampled.score(X_test, y_test))\n",
    "print('ROC AUC:', roc_auc_score(y_test, lr_resampled_pred_test))\n",
    "print('Confusion matrix:\\n', confusion_matrix(y_test, lr_resampled_pred_test))"
   ]
  },
  {
   "cell_type": "code",
   "execution_count": 32,
   "metadata": {},
   "outputs": [
    {
     "name": "stdout",
     "output_type": "stream",
     "text": [
      "0.8698208848568075\n",
      "{'max_depth': 20, 'min_samples_leaf': 2, 'min_samples_split': 2}\n"
     ]
    },
    {
     "data": {
      "text/plain": [
       "DecisionTreeClassifier(max_depth=20, min_samples_leaf=2, random_state=0)"
      ]
     },
     "execution_count": 32,
     "metadata": {},
     "output_type": "execute_result"
    }
   ],
   "source": [
    "# Decision tree grid search\n",
    "dt_resampled = DecisionTreeClassifier(random_state=0)\n",
    "params_resampled = {'max_depth': range(2, 22, 2), 'min_samples_split': range(2, 22, 2), 'min_samples_leaf': range(2, 22, 2)}\n",
    "gs_resampled = GridSearchCV(dt_resampled, params_resampled, scoring='roc_auc', cv=5, n_jobs=10)\n",
    "gs_resampled.fit(X_train_resampled, y_train_resampled)\n",
    "\n",
    "print(gs_resampled.best_score_)\n",
    "print(gs_resampled.best_params_)\n",
    "gs_resampled.best_estimator_"
   ]
  },
  {
   "cell_type": "code",
   "execution_count": 33,
   "metadata": {},
   "outputs": [
    {
     "name": "stdout",
     "output_type": "stream",
     "text": [
      "Train\n",
      "Score: 0.8614711232378354\n",
      "ROC AUC: 0.8614711232378354\n",
      "Confusion matrix:\n",
      " [[6955 1841]\n",
      " [ 596 8200]]\n",
      "\n",
      "Test\n",
      "Score: 0.684\n",
      "ROC AUC: 0.5607391978184512\n",
      "Confusion matrix:\n",
      " [[1272  487]\n",
      " [ 145   96]]\n"
     ]
    }
   ],
   "source": [
    "# Decision tree\n",
    "dt_resampled = gs_resampled.best_estimator_\n",
    "dt_resampled.fit(X_train_resampled, y_train_resampled)\n",
    "dt_resampled_pred_train = dt_resampled.predict(X_train_resampled)\n",
    "dt_resampled_pred_test = dt_resampled.predict(X_test)\n",
    "\n",
    "print('Train')\n",
    "print('Score:', dt_resampled.score(X_train_resampled, y_train_resampled))\n",
    "print('ROC AUC:', roc_auc_score(y_train_resampled, dt_resampled_pred_train))\n",
    "print('Confusion matrix:\\n', confusion_matrix(y_train_resampled, dt_resampled_pred_train))\n",
    "\n",
    "print('\\nTest')\n",
    "print('Score:', dt_resampled.score(X_test, y_test))\n",
    "print('ROC AUC:', roc_auc_score(y_test, dt_resampled_pred_test))\n",
    "print('Confusion matrix:\\n', confusion_matrix(y_test, dt_resampled_pred_test))"
   ]
  },
  {
   "cell_type": "code",
   "execution_count": 34,
   "metadata": {},
   "outputs": [
    {
     "data": {
      "text/html": [
       "<div>\n",
       "<style scoped>\n",
       "    .dataframe tbody tr th:only-of-type {\n",
       "        vertical-align: middle;\n",
       "    }\n",
       "\n",
       "    .dataframe tbody tr th {\n",
       "        vertical-align: top;\n",
       "    }\n",
       "\n",
       "    .dataframe thead th {\n",
       "        text-align: right;\n",
       "    }\n",
       "</style>\n",
       "<table border=\"1\" class=\"dataframe\">\n",
       "  <thead>\n",
       "    <tr style=\"text-align: right;\">\n",
       "      <th></th>\n",
       "      <th>feature</th>\n",
       "      <th>lr_coef</th>\n",
       "      <th>dt_coef</th>\n",
       "    </tr>\n",
       "  </thead>\n",
       "  <tbody>\n",
       "    <tr>\n",
       "      <th>0</th>\n",
       "      <td>creation_encoding</td>\n",
       "      <td>7.74436</td>\n",
       "      <td>0.081705</td>\n",
       "    </tr>\n",
       "    <tr>\n",
       "      <th>1</th>\n",
       "      <td>domain_encoding</td>\n",
       "      <td>4.888217</td>\n",
       "      <td>0.203916</td>\n",
       "    </tr>\n",
       "    <tr>\n",
       "      <th>2</th>\n",
       "      <td>org_encoding</td>\n",
       "      <td>8.592436</td>\n",
       "      <td>0.542419</td>\n",
       "    </tr>\n",
       "    <tr>\n",
       "      <th>3</th>\n",
       "      <td>invited</td>\n",
       "      <td>0.053199</td>\n",
       "      <td>0.027368</td>\n",
       "    </tr>\n",
       "    <tr>\n",
       "      <th>4</th>\n",
       "      <td>mailing_list</td>\n",
       "      <td>0.106999</td>\n",
       "      <td>0.085346</td>\n",
       "    </tr>\n",
       "    <tr>\n",
       "      <th>5</th>\n",
       "      <td>marketing_drip</td>\n",
       "      <td>-0.042475</td>\n",
       "      <td>0.059247</td>\n",
       "    </tr>\n",
       "  </tbody>\n",
       "</table>\n",
       "</div>"
      ],
      "text/plain": [
       "             feature   lr_coef   dt_coef\n",
       "0  creation_encoding   7.74436  0.081705\n",
       "1    domain_encoding  4.888217  0.203916\n",
       "2       org_encoding  8.592436  0.542419\n",
       "3            invited  0.053199  0.027368\n",
       "4       mailing_list  0.106999  0.085346\n",
       "5     marketing_drip -0.042475  0.059247"
      ]
     },
     "execution_count": 34,
     "metadata": {},
     "output_type": "execute_result"
    }
   ],
   "source": [
    "# Feature coefficients\n",
    "pd.DataFrame(np.array([X_train_resampled.columns.values, lr_resampled.coef_[0], dt_resampled.feature_importances_]).T, \n",
    "             columns=['feature', 'lr_coef', 'dt_coef'])"
   ]
  },
  {
   "cell_type": "markdown",
   "metadata": {},
   "source": [
    "### Modeling 3 (with a binary feature subset)"
   ]
  },
  {
   "cell_type": "code",
   "execution_count": 35,
   "metadata": {},
   "outputs": [
    {
     "data": {
      "text/plain": [
       "((10000, 3), (2000, 3))"
      ]
     },
     "execution_count": 35,
     "metadata": {},
     "output_type": "execute_result"
    }
   ],
   "source": [
    "# Filter for binary features\n",
    "X_train_bin = X_train[['invited', 'mailing_list', 'marketing_drip']].copy()\n",
    "X_test_bin = X_test[['invited', 'mailing_list', 'marketing_drip']].copy()\n",
    "X_train_bin.shape, X_test_bin.shape"
   ]
  },
  {
   "cell_type": "code",
   "execution_count": 36,
   "metadata": {},
   "outputs": [
    {
     "ename": "NameError",
     "evalue": "name 'y_train_bin' is not defined",
     "output_type": "error",
     "traceback": [
      "\u001b[0;31m---------------------------------------------------------------------------\u001b[0m",
      "\u001b[0;31mNameError\u001b[0m                                 Traceback (most recent call last)",
      "\u001b[0;32m/var/folders/cl/1tqm6ndx2bb8t04x6s1hdpzw0000gn/T/ipykernel_83660/3309116808.py\u001b[0m in \u001b[0;36m<module>\u001b[0;34m\u001b[0m\n\u001b[1;32m      1\u001b[0m \u001b[0;31m# Logistic regression on resampled data\u001b[0m\u001b[0;34m\u001b[0m\u001b[0;34m\u001b[0m\u001b[0m\n\u001b[1;32m      2\u001b[0m \u001b[0mlr_bin\u001b[0m \u001b[0;34m=\u001b[0m \u001b[0mLogisticRegression\u001b[0m\u001b[0;34m(\u001b[0m\u001b[0mmax_iter\u001b[0m\u001b[0;34m=\u001b[0m\u001b[0;36m1e4\u001b[0m\u001b[0;34m,\u001b[0m \u001b[0mrandom_state\u001b[0m\u001b[0;34m=\u001b[0m\u001b[0;36m0\u001b[0m\u001b[0;34m)\u001b[0m\u001b[0;34m\u001b[0m\u001b[0;34m\u001b[0m\u001b[0m\n\u001b[0;32m----> 3\u001b[0;31m \u001b[0mlr_bin\u001b[0m\u001b[0;34m.\u001b[0m\u001b[0mfit\u001b[0m\u001b[0;34m(\u001b[0m\u001b[0mX_train_bin\u001b[0m\u001b[0;34m,\u001b[0m \u001b[0my_train_bin\u001b[0m\u001b[0;34m)\u001b[0m\u001b[0;34m\u001b[0m\u001b[0;34m\u001b[0m\u001b[0m\n\u001b[0m\u001b[1;32m      4\u001b[0m \u001b[0mlr_bin_pred_train\u001b[0m \u001b[0;34m=\u001b[0m \u001b[0mlr_bin\u001b[0m\u001b[0;34m.\u001b[0m\u001b[0mpredict\u001b[0m\u001b[0;34m(\u001b[0m\u001b[0mX_train_bin\u001b[0m\u001b[0;34m)\u001b[0m\u001b[0;34m\u001b[0m\u001b[0;34m\u001b[0m\u001b[0m\n\u001b[1;32m      5\u001b[0m \u001b[0mlr_bin_pred_test\u001b[0m \u001b[0;34m=\u001b[0m \u001b[0mlr_bin\u001b[0m\u001b[0;34m.\u001b[0m\u001b[0mpredict\u001b[0m\u001b[0;34m(\u001b[0m\u001b[0mX_test\u001b[0m\u001b[0;34m)\u001b[0m\u001b[0;34m\u001b[0m\u001b[0;34m\u001b[0m\u001b[0m\n",
      "\u001b[0;31mNameError\u001b[0m: name 'y_train_bin' is not defined"
     ]
    }
   ],
   "source": [
    "# Logistic regression on resampled data\n",
    "lr_bin = LogisticRegression(max_iter=1e4, random_state=0)\n",
    "lr_bin.fit(X_train_bin, y_train_bin)\n",
    "lr_bin_pred_train = lr_bin.predict(X_train_bin)\n",
    "lr_bin_pred_test = lr_bin.predict(X_test)\n",
    "\n",
    "print('Train')\n",
    "print('Accuracy:', lr_bin.score(X_train_bin, y_train_bin))\n",
    "print('ROC AUC:', roc_auc_score(y_train_bin, lr_bin_pred_train))\n",
    "print('Confusion matrix:\\n', confusion_matrix(y_train_bin, lr_bin_pred_train))\n",
    "\n",
    "print('\\nTest')\n",
    "print('Accuracy:', lr_bin.score(X_test, y_test))\n",
    "print('ROC AUC:', roc_auc_score(y_test, lr_bin_pred_test))\n",
    "print('Confusion matrix:\\n', confusion_matrix(y_test, lr_bin_pred_test))"
   ]
  },
  {
   "cell_type": "code",
   "execution_count": null,
   "metadata": {},
   "outputs": [],
   "source": [
    "# Decision tree grid search\n",
    "dt_bin = DecisionTreeClassifier(random_state=0)\n",
    "params_bin = {'max_depth': range(2, 22, 2), 'min_samples_split': range(2, 22, 2), 'min_samples_leaf': range(2, 22, 2)}\n",
    "gs_bin = GridSearchCV(dt_bin, params_bin, scoring='roc_auc', cv=5, n_jobs=10)\n",
    "gs_bin.fit(X_train_bin, y_train_bin)\n",
    "\n",
    "print(gs_bin.best_score_)\n",
    "print(gs_bin.best_params_)\n",
    "gs_bin.best_estimator_"
   ]
  },
  {
   "cell_type": "code",
   "execution_count": null,
   "metadata": {},
   "outputs": [],
   "source": [
    "# Decision tree\n",
    "dt_bin = gs_bin.best_estimator_\n",
    "dt_bin.fit(X_train_bin, y_train_bin)\n",
    "dt_bin_pred_train = dt_bin.predict(X_train_bin)\n",
    "dt_bin_pred_test = dt_bin.predict(X_test)\n",
    "\n",
    "print('Train')\n",
    "print('Score:', dt_bin.score(X_train_bin, y_train_bin))\n",
    "print('ROC AUC:', roc_auc_score(y_train_bin, dt_bin_pred_train))\n",
    "print('Confusion matrix:\\n', confusion_matrix(y_train_bin, dt_bin_pred_train))\n",
    "\n",
    "print('\\nTest')\n",
    "print('Score:', dt_bin.score(X_test, y_test))\n",
    "print('ROC AUC:', roc_auc_score(y_test, dt_bin_pred_test))\n",
    "print('Confusion matrix:\\n', confusion_matrix(y_test, dt_bin_pred_test))"
   ]
  },
  {
   "cell_type": "code",
   "execution_count": null,
   "metadata": {},
   "outputs": [],
   "source": [
    "# Feature coefficients\n",
    "pd.DataFrame(np.array([X_train_bin.columns.values, lr_bin.coef_[0], dt_bin.feature_importances_]).T, \n",
    "             columns=['feature', 'lr_coef', 'dt_coef'])"
   ]
  },
  {
   "cell_type": "markdown",
   "metadata": {},
   "source": [
    "### Modeling 4 (with encoded feature subset)"
   ]
  },
  {
   "cell_type": "code",
   "execution_count": null,
   "metadata": {},
   "outputs": [],
   "source": []
  }
 ],
 "metadata": {
  "kernelspec": {
   "display_name": "Python 3 (ipykernel)",
   "language": "python",
   "name": "python3"
  },
  "language_info": {
   "codemirror_mode": {
    "name": "ipython",
    "version": 3
   },
   "file_extension": ".py",
   "mimetype": "text/x-python",
   "name": "python",
   "nbconvert_exporter": "python",
   "pygments_lexer": "ipython3",
   "version": "3.9.7"
  }
 },
 "nbformat": 4,
 "nbformat_minor": 4
}
